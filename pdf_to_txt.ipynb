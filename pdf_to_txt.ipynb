{
 "cells": [
  {
   "cell_type": "code",
   "execution_count": 1,
   "id": "1b3273c3",
   "metadata": {},
   "outputs": [
    {
     "name": "stdout",
     "output_type": "stream",
     "text": [
      "Requirement already satisfied: pdfminer.six in /Users/mac-user/opt/anaconda3/lib/python3.9/site-packages (20220524)\n",
      "Requirement already satisfied: charset-normalizer>=2.0.0 in /Users/mac-user/opt/anaconda3/lib/python3.9/site-packages (from pdfminer.six) (2.0.4)\n",
      "Requirement already satisfied: cryptography>=36.0.0 in /Users/mac-user/opt/anaconda3/lib/python3.9/site-packages (from pdfminer.six) (38.0.1)\n",
      "Requirement already satisfied: cffi>=1.12 in /Users/mac-user/opt/anaconda3/lib/python3.9/site-packages (from cryptography>=36.0.0->pdfminer.six) (1.15.0)\n",
      "Requirement already satisfied: pycparser in /Users/mac-user/opt/anaconda3/lib/python3.9/site-packages (from cffi>=1.12->cryptography>=36.0.0->pdfminer.six) (2.21)\n",
      "Note: you may need to restart the kernel to use updated packages.\n"
     ]
    }
   ],
   "source": [
    "pip install pdfminer.six"
   ]
  },
  {
   "cell_type": "code",
   "execution_count": 2,
   "id": "a9c59d5d",
   "metadata": {},
   "outputs": [],
   "source": [
    "# 必要なライブラリのインストール\n",
    "from pdfminer.pdfpage import PDFPage\n",
    "from pdfminer.pdfinterp import PDFResourceManager, PDFPageInterpreter\n",
    "from pdfminer.converter import TextConverter\n",
    "from pdfminer.layout import LAParams\n",
    "import os"
   ]
  },
  {
   "cell_type": "code",
   "execution_count": 15,
   "id": "8f7670ae",
   "metadata": {},
   "outputs": [
    {
     "data": {
      "text/plain": [
       "'/Users/mac-user/Desktop/SMTB/業務関連/pdf_data'"
      ]
     },
     "execution_count": 15,
     "metadata": {},
     "output_type": "execute_result"
    }
   ],
   "source": [
    "os.getcwd()"
   ]
  },
  {
   "cell_type": "code",
   "execution_count": 16,
   "id": "9cf17e05",
   "metadata": {},
   "outputs": [],
   "source": [
    "os.chdir('/Users/mac-user/Desktop/SMTB/業務関連/pdf_data/')"
   ]
  },
  {
   "cell_type": "code",
   "execution_count": 17,
   "id": "720ab7a1",
   "metadata": {},
   "outputs": [
    {
     "data": {
      "text/plain": [
       "['（株）リベルタ.pdf',\n",
       " '（株）ＲＯＢＯＴ\\u3000ＰＡＹＭＥＮＴ.pdf',\n",
       " '（株）おきなわフィナンシャルグループ.pdf',\n",
       " '（株）ジオコード.pdf',\n",
       " '（株）ＡｍｉｄＡホールディングス.pdf',\n",
       " 'ITbookホールディングス（株）.pdf',\n",
       " '（株）リンク.pdf',\n",
       " '（株）グローバルインフォメーション.pdf',\n",
       " '日総工産（株）.pdf',\n",
       " '（株）マリオン.pdf',\n",
       " 'ギークス（株）.pdf',\n",
       " '（株）ＡＬｉＮＫインターネット.pdf',\n",
       " 'SREホールディングス（株）.pdf',\n",
       " '（株）Ｍａｃｂｅｅ\\u3000Ｐｌａｎｅｔ.pdf',\n",
       " 'BASE（株）.pdf',\n",
       " '（株）レナサイエンス.pdf',\n",
       " '日本エコシステム（株）.pdf',\n",
       " '（株）ライトワークス.pdf',\n",
       " '（株）サイエンスアーツ.pdf',\n",
       " '（株）くふうカンパニー.pdf',\n",
       " 'ａｎｄ\\u3000ｆａｃｔｏｒｙ（株）.pdf',\n",
       " '（株）グラッドキューブ.pdf',\n",
       " '（株）Ｍ＆Ａ総合研究所.pdf',\n",
       " '（株）ハウテレビジョン.pdf',\n",
       " 'ウイングアーク１ｓｔ（株）.pdf',\n",
       " '（株）オリバー.pdf',\n",
       " '室町ケミカル（株）.pdf',\n",
       " '（株）コプロ・ホールディングス.pdf',\n",
       " 'HENNGE（株）.pdf',\n",
       " 'ヤマイチ・ユニハイムエステート（株）.pdf',\n",
       " 'ブリッジインターナショナル（株）.pdf',\n",
       " '（株）ヤシマキザイ.pdf',\n",
       " 'エッジテクノロジー（株）.pdf',\n",
       " '（株）FastFitnessJapan.pdf',\n",
       " '（株）網屋.pdf',\n",
       " 'HPCシステムズ（株）.pdf',\n",
       " '（株）ＧＡ\\u3000ｔｅｃｈｎｏｌｏｇｉｅｓ.pdf',\n",
       " 'ローランド（株）.pdf',\n",
       " '（株）くふうカンパニーのコピー.pdf',\n",
       " '（株）松屋アールアンドディ.pdf',\n",
       " '（株）イメージ・マジック.pdf',\n",
       " 'ティアンドエス（株）.pdf',\n",
       " '（株）共和コーポレーション.pdf',\n",
       " '（株）フィードフォース.pdf',\n",
       " '（株）ステムセル研究所.pdf',\n",
       " '（株）エフ・コード.pdf',\n",
       " '（株）ＳＴＩフードホールディングス.pdf',\n",
       " '（株）Ｌｉｎｋ－Ｕ.pdf',\n",
       " 'フルハシＥＰＯ（株）.pdf',\n",
       " '（株）きずなホールディングス.pdf',\n",
       " '（株）デジタリフト.pdf',\n",
       " 'ログリー（株）.pdf',\n",
       " '（株）マーキュリーリアルテックイノベーター.pdf',\n",
       " 'ＡＩメカテック（株）.pdf',\n",
       " 'ロジザード（株）.pdf',\n",
       " '（株）GRCS.pdf',\n",
       " '（株）一家ホールディングス.pdf',\n",
       " '（株）ロコガイド.pdf',\n",
       " 'セーフィー（株）.pdf',\n",
       " '（株）サーバーワークス.pdf',\n",
       " 'ニューラルポケット（株）.pdf',\n",
       " '（株）イーディーピー.pdf',\n",
       " '（株）カクヤス.pdf',\n",
       " 'AICROSS（株）.pdf',\n",
       " 'オリエンタル白石（株）.pdf',\n",
       " 'コンピューターマネージメント（株）.pdf',\n",
       " '（株）スペースマーケット.pdf',\n",
       " '（株）シック・ホールディングス.pdf',\n",
       " '（株）カーブスホールディングス.pdf',\n",
       " 'サークレイス（株）.pdf',\n",
       " '（株）十六フィナンシャルグループ.pdf',\n",
       " '.DS_Store',\n",
       " '（株）LITALICO（2021年4月1日付で（株）LITALICOメディア＆ソリューションズから商号変更）.pdf',\n",
       " '（株）エーアイ.pdf',\n",
       " '（株）ワンキャリア.pdf',\n",
       " '（株）クルーバー.pdf',\n",
       " 'スパイダープラス（株）.pdf',\n",
       " '（株）ランドネット.pdf',\n",
       " '（株）サーキュレーション.pdf',\n",
       " '（株）ＦＩＸＥＲ.pdf',\n",
       " '（株）識学.pdf',\n",
       " '（株）コマースOneホールディングス.pdf',\n",
       " '（株）セルム.pdf',\n",
       " '（株）ドラフト.pdf',\n",
       " 'リバーホールディングス（株）.pdf',\n",
       " '（株）プラスアルファ・コンサルティング.pdf',\n",
       " '（株）アイ・ピー・エス（銘柄名：（株）ＩＰＳ）.pdf',\n",
       " '（株）交換できるくん.pdf',\n",
       " '（株）コパ・コーポレーション.pdf',\n",
       " '（株）ジモティー.pdf',\n",
       " 'サワイグループホールディングス（株）.pdf',\n",
       " '（株）ＭＴＧ.pdf',\n",
       " '（株）ビーアンドピー.pdf',\n",
       " 'ベース（株）.pdf',\n",
       " '（株）グッピーズ.pdf',\n",
       " '（株）ペルセウスプロテオミクス.pdf',\n",
       " 'アジアクエスト（株）.pdf',\n",
       " '（株）アクセスグループ・ホールディングス.pdf',\n",
       " 'ユーピーアール（株）.pdf',\n",
       " '全研本社（株）.pdf',\n",
       " '（株）エクスモーション.pdf',\n",
       " '（株）ブロードエンタープライズ.pdf',\n",
       " '（株）アクリート.pdf',\n",
       " '（株）メルカリ.pdf',\n",
       " '（株）ＦＰパートナー.pdf',\n",
       " '（株）インターファクトリー.pdf',\n",
       " '（株）三十三フィナンシャルグループ.pdf',\n",
       " '（株）エアークローゼット.pdf',\n",
       " '（株）Amazia.pdf',\n",
       " '（株）ネットプロテクションズホールディングス.pdf',\n",
       " 'ベイシス（株）.pdf',\n",
       " '（株）ディ・アイ・システム.pdf',\n",
       " '（株）エコミック.pdf',\n",
       " '（株）コンヴァノ.pdf',\n",
       " '（株）システムサポート.pdf',\n",
       " 'インヴァスト（株）.pdf',\n",
       " '（株）ＡＤワークスグループ.pdf',\n",
       " 'ジェイフロンティア（株）.pdf',\n",
       " '（株）ＷＯＷ\\u3000ＷＯＲＬＤ\\u3000ＧＲＯＵＰ.pdf',\n",
       " '（株）ＬＡホールディングス.pdf',\n",
       " '（株）ココペリ.pdf',\n",
       " '極東産機（株）.pdf',\n",
       " '（株）ワールド.pdf',\n",
       " 'プロパティデータバンク（株）.pdf',\n",
       " '（株）ダブルエー.pdf',\n",
       " '（株）Ｆｉｎａｔｅｘｔホールディングス.pdf',\n",
       " '霞ヶ関キャピタル（株）.pdf',\n",
       " 'フィーチャ（株）.pdf',\n",
       " '（株）オーケーエム.pdf',\n",
       " 'ＭＩＴホールディングス（株）.pdf',\n",
       " '（株）Welby.pdf',\n",
       " 'ＦＩＧ（株）.pdf',\n",
       " '（株）インバウンドテック.pdf',\n",
       " '（株）キューブ.pdf',\n",
       " 'ＨＥＲＯＺ（株）.pdf',\n",
       " '（株）クリーマ.pdf',\n",
       " '（株）サンウェルズ.pdf',\n",
       " 'ＹＣＰホールディングス（グローバル）リミテッド.pdf',\n",
       " '（株）ミダック.pdf',\n",
       " '（株）ヴィッツ.pdf',\n",
       " '（株）アクシージア.pdf',\n",
       " 'ポーターズ（株）.pdf',\n",
       " '（株）クラシコム.pdf',\n",
       " '（株）Speee.pdf',\n",
       " '（株）いつも.pdf',\n",
       " 'ブックオフグループホールディングス（株）.pdf',\n",
       " '（株）ＳＥＲＩＯホールディングス.pdf',\n",
       " '（株）インティメート・マージャー.pdf',\n",
       " 'ジャパニアス（株）.pdf',\n",
       " '（株）アールプランナー.pdf',\n",
       " '信和（株）.pdf',\n",
       " 'ミアヘルサ（株）.pdf',\n",
       " '日本インシュレーション（株）.pdf',\n",
       " '（株）ミクリード.pdf',\n",
       " '（株）スペースバリューホールディングス.pdf',\n",
       " '（株）クワザワ.pdf',\n",
       " 'エフビー介護サービス（株）.pdf',\n",
       " '田中建設工業（株）.pdf',\n",
       " '（株）ココナラ.pdf',\n",
       " '日通システム（株）.pdf',\n",
       " 'ＡＮＹＣＯＬＯＲ（株）.pdf',\n",
       " 'ダイヤモンドエレクトリックホールディングス（株）.pdf',\n",
       " 'スローガン（株）.pdf',\n",
       " '日本ホスピスホールディングス（株）.pdf',\n",
       " '（株）関通.pdf',\n",
       " '（株）レオクラン.pdf',\n",
       " 'ペットゴー（株）.pdf',\n",
       " '（株）イーエムネットジャパン.pdf',\n",
       " 'ＰＨＣホールディングス（株）.pdf',\n",
       " 'リニューアブル・ジャパン（株）.pdf',\n",
       " '（株）アースインフィニティ.pdf',\n",
       " '守谷輸送機工業（株）.pdf',\n",
       " '（株）タスキ.pdf',\n",
       " 'タンゴヤ（株）.pdf',\n",
       " '（株）アイキューブドシステムズ.pdf',\n",
       " '藤久ホールディングス（株）.pdf',\n",
       " 'ジャパンワランティサポート（株）.pdf',\n",
       " 'コーア商事ホールディングス（株）.pdf',\n",
       " '（株）Waqoo.pdf',\n",
       " 'かっこ（株）.pdf',\n",
       " 'THECOO（株）.pdf',\n",
       " '（株）エヌリンクス.pdf',\n",
       " 'アルテリア・ネットワークス（株）.pdf',\n",
       " '（株）ツクルバ.pdf',\n",
       " 'モビルス（株）.pdf',\n",
       " '（株）和心.pdf',\n",
       " 'Ｋｕｄａｎ（株）.pdf',\n",
       " 'アルー（株）.pdf',\n",
       " '（株）アクシス.pdf',\n",
       " '湖北工業（株）.pdf',\n",
       " 'セルソース（株）.pdf',\n",
       " 'グローバルセキュリティエキスパート（株）.pdf',\n",
       " 'ブランディングテクノロジー（株）.pdf',\n",
       " 'ＧｒｅｅｎＥａｒｔｈＩｎｓｔｉｔｕｔｅ（株）.pdf',\n",
       " '（株）ラキール.pdf',\n",
       " '（株）ＣＳ－Ｃ.pdf',\n",
       " 'メディア総研（株）.pdf',\n",
       " 'ＩＮＥＳＴ（株）.pdf',\n",
       " '（株）ライトアップ.pdf',\n",
       " '（株）ヒト・コミュニケーションズ・ホールディングス.pdf',\n",
       " 'ＲＰＡホールディングス（株）.pdf',\n",
       " '（株）QDレーザ.pdf',\n",
       " '神戸天然物化学（株）.pdf',\n",
       " '（株）ＴＯＲＩＣＯ.pdf',\n",
       " '日本情報クリエイト（株）.pdf',\n",
       " 'gooddaysホールディングス（株）.pdf',\n",
       " '（株）coly.pdf',\n",
       " 'ソフトバンク（株）.pdf',\n",
       " 'Ｄｅｌｔａ－Ｆｌｙ\\u3000Ｐｈａｒｍａ（株）.pdf',\n",
       " '（株）ギフティ.pdf',\n",
       " '（株）メドレー.pdf',\n",
       " '（株）フォーラムエンジニアリング.pdf',\n",
       " '東和ハイシステム（株）.pdf',\n",
       " '総合メディカルホールディングス（株）.pdf',\n",
       " 'サスメド（株）.pdf',\n",
       " 'バルミューダ（株）.pdf',\n",
       " '（株）グッドスピード.pdf',\n",
       " '（株）丸順.pdf',\n",
       " '日本電解（株）.pdf',\n",
       " '（株）エクサウィザーズ.pdf',\n",
       " 'ＩＮＴＬＯＯＰ（株）.pdf',\n",
       " '（株）Ｉ－ｎｅ.pdf',\n",
       " 'セレンディップ・ホールディングス（株）.pdf',\n",
       " '（株）プログリット.pdf',\n",
       " '三和油化工業（株）.pdf',\n",
       " '（株）サイバー・バズ.pdf',\n",
       " '（株）CINC.pdf',\n",
       " '（株）メンタルヘルステクノロジーズ.pdf',\n",
       " '（株）NexTone.pdf',\n",
       " 'ドリームベッド（株）.pdf',\n",
       " '（株）アイ・パートナーズフィナンシャル.pdf',\n",
       " '（株）ＢｌｕｅＭｅｍｅ.pdf',\n",
       " '（株）アスタリスク.pdf',\n",
       " '（株）ＡＶｉＣ.pdf',\n",
       " '（株）カラダノート.pdf',\n",
       " '（株）スプリックス.pdf',\n",
       " 'サイバートラスト（株）.pdf',\n",
       " '（株）マナック・ケミカル・パートナーズ.pdf',\n",
       " 'ニフティライフスタイル（株）.pdf',\n",
       " '（株）ライフドリンクカンパニー.pdf',\n",
       " '（株）アズーム.pdf',\n",
       " '（株）第四北越フィナンシャルグループ.pdf',\n",
       " '（株）シイエヌエス.pdf',\n",
       " '（株）リビングプラットフォーム.pdf',\n",
       " 'ポバール興業（株）.pdf',\n",
       " 'クリアル（株）.pdf',\n",
       " 'トビラシステムズ（株）.pdf',\n",
       " '（株）岐阜造園.pdf',\n",
       " '（株）ベビーカレンダー.pdf',\n",
       " '（株）マーキュリアホールディングス.pdf',\n",
       " '（株）サインド.pdf',\n",
       " '（株）東名.pdf',\n",
       " '（株）アズ企画設計.pdf',\n",
       " 'ウェルスナビ（株）.pdf',\n",
       " '（株）ヒューマンクリエイションホールディングス.pdf',\n",
       " '（株）さくらさくプラス.pdf',\n",
       " '（株）チームスピリット.pdf',\n",
       " 'ミアヘルサホールディングス（株）.pdf',\n",
       " '（株）ＴｒｕｅＤａｔａ.pdf',\n",
       " '（株）ヘッドウォータース.pdf',\n",
       " '（株）スタメン.pdf',\n",
       " 'リンカーズ（株）.pdf',\n",
       " '（株）サクシード.pdf',\n",
       " 'ビープラッツ（株）.pdf',\n",
       " 'エコモット（株）.pdf',\n",
       " '（株）ナルミヤ・インターナショナル.pdf',\n",
       " '（株）ゼネテック.pdf',\n",
       " '（株）テクノフレックス.pdf',\n",
       " '（株）セレコーポレーション.pdf',\n",
       " '（株）コンフィデンス.pdf',\n",
       " '（株）ＫＨＣ.pdf',\n",
       " '（株）自律制御システム研究所.pdf',\n",
       " 'テスホールディングス（株）.pdf',\n",
       " 'NIPPONEXPRESSホールディングス（株）.pdf',\n",
       " 'バリオセキュア（株）.pdf',\n",
       " '（株）KaizenPlatform.pdf',\n",
       " '（株）リベロ.pdf',\n",
       " '（株）ミンカブ・ジ・インフォノイド.pdf',\n",
       " 'アイペット損害保険（株）.pdf',\n",
       " '恵和（株）.pdf',\n",
       " 'ステラファーマ（株）.pdf',\n",
       " '（株）SunAsterisk.pdf',\n",
       " '（株）ピアズ.pdf',\n",
       " '（株）プロクレアホールディングス.pdf',\n",
       " '（株）AB_Company.pdf',\n",
       " '（株）コラントッテ.pdf',\n",
       " 'ＶＡＬＵＥＮＥＸ（株）.pdf',\n",
       " '（株）プレイド.pdf',\n",
       " 'フルサト・マルカホールディングス（株）.pdf',\n",
       " '（株）イー・ロジット.pdf',\n",
       " '（株）ベストワンドットコム.pdf',\n",
       " 'ユミルリンク（株）.pdf',\n",
       " 'ビジョナル（株）.pdf',\n",
       " '（株）エヌ・シー・エヌ.pdf',\n",
       " 'リビン・テクノロジーズ（株）.pdf',\n",
       " '（株）Photosynth.pdf',\n",
       " 'マイクロ波化学（株）.pdf',\n",
       " '（株）ダイレクトマーケティングミックス.pdf',\n",
       " '（株）セキュア.pdf',\n",
       " 'ラクスル（株）.pdf',\n",
       " 'ブロードマインド（株）.pdf',\n",
       " 'ポート（株）.pdf',\n",
       " '（株）BuySellTechnologies.pdf',\n",
       " 'ＨＯＵＳＥＩ（株）.pdf',\n",
       " '（株）テンダ.pdf',\n",
       " 'バルテス（株）.pdf',\n",
       " 'コーユーレンティア（株）.pdf',\n",
       " 'TREホールディングス（株）.pdf',\n",
       " '（株）グラフィコ.pdf',\n",
       " '（株）ＫＹＯＲＩＴＳＵ.pdf',\n",
       " 'ワンダープラネット（株）.pdf',\n",
       " '（株）ＪＭＤＣ.pdf',\n",
       " '（株）長栄.pdf',\n",
       " 'フリー（株）.pdf',\n",
       " '（株）マネジメントソリューションズ.pdf',\n",
       " '（株）しずおかフィナンシャルグループ.pdf',\n",
       " '日本リビング保証（株）.pdf',\n",
       " 'インフロニア・ホールディングス（株）.pdf',\n",
       " 'ワシントンホテル（株）.pdf',\n",
       " 'イーソル（株）.pdf',\n",
       " '（株）オキサイド.pdf',\n",
       " '（株）ＳＯＵ.pdf',\n",
       " 'AtlasTechnologies（株）.pdf',\n",
       " '（株）ストレージ王.pdf',\n",
       " 'GMOフィナンシャルゲート（株）.pdf',\n",
       " 'ヤマエ久野（株）.pdf',\n",
       " 'ENECHANGE（株）.pdf',\n",
       " '未来工業（株）.pdf',\n",
       " 'キュービーネットホールディングス（株）.pdf',\n",
       " '（株）ｐｌｕｓｚｅｒｏ.pdf',\n",
       " 'ＳＢＩインシュアランスグループ（株）.pdf',\n",
       " '（株）パワーソリューションズ.pdf',\n",
       " '（株）KidsSmileHoldings.pdf',\n",
       " '（株）ビザスク.pdf',\n",
       " '（株）ジィ・シィ企画.pdf',\n",
       " 'ＳＢＩリーシングサービス（株）.pdf',\n",
       " '（株）ハイブリッドテクノロジーズ.pdf',\n",
       " 'クリングルファーマ（株）.pdf',\n",
       " 'プリントネット（株）.pdf',\n",
       " '日本国土開発（株）.pdf',\n",
       " '（株）あいちフィナンシャルグループ.pdf',\n",
       " '（株）アシロ.pdf',\n",
       " '（株）ジェイック.pdf',\n",
       " '（株）eWeLL.pdf',\n",
       " '（株）サン・ライフホールディング.pdf',\n",
       " 'アララ（株）.pdf',\n",
       " 'INCLUSIVE（株）.pdf',\n",
       " '（株）いよぎんホールディングス.pdf',\n",
       " '（株）フロンティアインターナショナル.pdf',\n",
       " '（株）JDSC.pdf',\n",
       " '（株）サイバーセキュリティクラウド.pdf',\n",
       " '（株）イボキン.pdf',\n",
       " '（株）グッドライフカンパニー.pdf',\n",
       " '（株）マイクロアド.pdf',\n",
       " '（株）アイリックコーポレーション.pdf',\n",
       " '（株）プロレド・パートナーズ.pdf',\n",
       " '国際紙パルプ商事（株）.pdf',\n",
       " '（株）フューチャーリンクネットワーク.pdf',\n",
       " 'ブティックス（株）.pdf',\n",
       " '日本ビジネスシステムズ（株）.pdf',\n",
       " 'ダイコー通産（株）.pdf',\n",
       " 'アイペットホールディングス（株）.pdf',\n",
       " '（株）Ｌｉｂ\\u3000Ｗｏｒｋ.pdf',\n",
       " 'rakumo（株）.pdf',\n",
       " '（株）ネオマーケティング.pdf',\n",
       " '（株）ファインズ.pdf',\n",
       " 'ベルトラ（株）.pdf',\n",
       " '（株）フレアス.pdf',\n",
       " '（株）エードット.pdf',\n",
       " 'プレミアアンチエイジング（株）.pdf',\n",
       " 'REXT（株）.pdf',\n",
       " '（株）ヴィス.pdf',\n",
       " '（株）プロジェクトカンパニー.pdf',\n",
       " 'AIinside（株）.pdf',\n",
       " '（株）globalbridgeHOLDINGS.pdf',\n",
       " 'アジャイルメディア・ネットワーク（株）.pdf',\n",
       " '（株）ギックス.pdf',\n",
       " '（株）インフォネット.pdf',\n",
       " '（株）リグア.pdf',\n",
       " '人・夢・技術グループ（株）.pdf',\n",
       " 'オーウエル（株）.pdf',\n",
       " '（株）ツクイスタッフ.pdf',\n",
       " 'シンプレクス・ホールディングス（株）.pdf',\n",
       " 'RecoveryInternational（株）.pdf',\n",
       " 'あすか製薬ホールディングス（株）.pdf',\n",
       " '（株）ジーネクスト.pdf',\n",
       " '東海ソフト（株）.pdf',\n",
       " '（株）アンビスホールディングス.pdf',\n",
       " '（株）ＳＩＧ.pdf',\n",
       " '（株）浜木綿.pdf',\n",
       " 'ビジネスコーチ（株）.pdf',\n",
       " 'ホームポジション（株）.pdf',\n",
       " 'ＢＣＣ（株）.pdf',\n",
       " '（株）アイドマ・ホールディングス.pdf',\n",
       " '（株）キャンディル.pdf',\n",
       " '（株）ＪＴＯＷＥＲ.pdf',\n",
       " '（株）ギフト.pdf',\n",
       " '（株）リーガル不動産.pdf',\n",
       " '（株）あさくま.pdf',\n",
       " '（株）ピックルスホールディングス.pdf',\n",
       " '木村工機（株）.pdf',\n",
       " '（株）ピー・ビーシステムズ.pdf',\n",
       " '（株）ちゅうぎんフィナンシャルグループ.pdf',\n",
       " '（株）ラバブルマーケティンググループ.pdf',\n",
       " '（株）デリバリーコンサルティング.pdf',\n",
       " '（株）ニッソウ.pdf',\n",
       " '（株）ビーイングホールディングス.pdf',\n",
       " '（株）マクアケ.pdf',\n",
       " '（株）CaSy.pdf',\n",
       " '（株）ジェイテックコーポレーション.pdf',\n",
       " 'ビーウィズ（株）.pdf',\n",
       " '竹田印刷（株）.pdf',\n",
       " 'モイ（株）.pdf',\n",
       " 'Retty（株）.pdf',\n",
       " '（株）ラストワンマイル.pdf',\n",
       " '（株）ヤプリ.pdf',\n",
       " 'ランサーズ（株）.pdf',\n",
       " '（株）ペイロール.pdf',\n",
       " '（株）ステムリム.pdf',\n",
       " '（株）EduLab.pdf',\n",
       " '（株）ファンペップ.pdf',\n",
       " '（株）モダリス.pdf',\n",
       " '（株）トリプルアイズ.pdf',\n",
       " '（株）スマレジ.pdf',\n",
       " 'ＨＹＵＧＡＰＲＩＭＡＲＹＣＡＲＥ（株）.pdf',\n",
       " '日創プロニティ（株）.pdf',\n",
       " '（株）ブロードバンドセキュリティ.pdf',\n",
       " '（株）BrandingEngineer.pdf',\n",
       " 'フォースタートアップス（株）.pdf',\n",
       " 'のむら産業（株）.pdf',\n",
       " '（株）ランディックス.pdf',\n",
       " '（株）ヌーラボ.pdf',\n",
       " '大石産業（株）.pdf',\n",
       " '（株）坪田ラボ.pdf',\n",
       " '（株）Ｍマート.pdf',\n",
       " '（株）unerry.pdf',\n",
       " '（株）トゥエンティーフォーセブン.pdf',\n",
       " '（株）カオナビ.pdf',\n",
       " 'Chatwork（株）.pdf',\n",
       " '（株）セイファート.pdf',\n",
       " '（株）電算システムホールディングス.pdf',\n",
       " '表示灯（株）.pdf',\n",
       " '（株）ファブリカコミュニケーションズ.pdf',\n",
       " '（株）スポーツフィールド.pdf',\n",
       " '（株）ブシロード.pdf',\n",
       " 'セカンドサイトアナリティカ（株）.pdf',\n",
       " '（株）ＨＣＳホールディングス.pdf',\n",
       " 'ＳＡＮＥＩ（株）.pdf',\n",
       " '（株）アピリッツ.pdf',\n",
       " '（株）ピアラ.pdf',\n",
       " '（株）ノバック.pdf',\n",
       " 'エブレン（株）.pdf',\n",
       " '（株）ＺＵＵ.pdf',\n",
       " 'InstitutionforaGlobalSociety（株）.pdf',\n",
       " '（株）バンク・オブ・イノベーション.pdf',\n",
       " '（株）リファインバースグループ.pdf',\n",
       " '香陵住販（株）.pdf',\n",
       " 'ヤマエグループホールディングス（株）.pdf',\n",
       " '（株）アイスコ.pdf',\n",
       " 'アディッシュ（株）.pdf',\n",
       " '（株）シキノハイテック.pdf',\n",
       " 'ユナイトアンドグロウ（株）.pdf',\n",
       " '（株）フェイスネットワーク.pdf',\n",
       " '新日本製薬（株）.pdf',\n",
       " 'トヨクモ（株）.pdf',\n",
       " 'ＫＩＹＯラーニング（株）.pdf',\n",
       " '（株）ファイバーゲート.pdf',\n",
       " '（株）テノ．ホールディングス.pdf',\n",
       " '（株）ＷＡＣＵＬ.pdf',\n",
       " '（株）グッドパッチ.pdf',\n",
       " '（株）北國フィナンシャルホールディングス.pdf',\n",
       " 'ビートレンド（株）.pdf',\n",
       " '（株）Ｅｎｊｉｎ.pdf',\n",
       " '（株）アルマード.pdf',\n",
       " '（株）ひろぎんホールディングス.pdf',\n",
       " 'ＷＤＢココ（株）.pdf',\n",
       " '共栄セキュリティーサービス（株）.pdf',\n",
       " 'ブレインズテクノロジー（株）.pdf',\n",
       " '（株）ベルテクスコーポレーション.pdf',\n",
       " '技研ホールディングス（株）.pdf',\n",
       " '（株）アミファ.pdf',\n",
       " '（株）薬王堂ホールディングス.pdf',\n",
       " 'ＡＨＣグループ（株）.pdf',\n",
       " '（株）コアコンセプト・テクノロジー.pdf',\n",
       " 'オムニ・プラス・システム・リミテッド.pdf',\n",
       " '（株）フレクト.pdf',\n",
       " '（株）Ｔ．Ｓ．Ｉ.pdf',\n",
       " '（株）タカヨシ.pdf',\n",
       " 'DNホールディングス（株）.pdf',\n",
       " 'ヒューマン・アソシエイツ・ホールディングス（株）.pdf',\n",
       " '（株）ソシオネクスト.pdf',\n",
       " '（株）ＦＣＥＨｏｌｄｉｎｇｓ.pdf',\n",
       " '（株）オンデック.pdf',\n",
       " '（株）ウイルテック.pdf',\n",
       " 'ＣＲＧホールディングス（株）.pdf',\n",
       " 'フロンティア・マネジメント（株）.pdf',\n",
       " '（株）紀文食品.pdf',\n",
       " '（株）ウィルズ.pdf',\n",
       " '（株）まぐまぐ.pdf',\n",
       " '（株）メイホーホールディングス.pdf',\n",
       " 'AppierGroup（株）.pdf',\n",
       " '（株）ポピンズホールディングス.pdf',\n",
       " '（株）ボードルア.pdf',\n",
       " '（株）関西みらいフィナンシャルグループ.pdf',\n",
       " 'スター・マイカ・ホールディングス（株）.pdf',\n",
       " 'テクノスデータサイエンス・エンジニアリング（株）.pdf',\n",
       " '日本調理機（株）.pdf',\n",
       " 'Sansan（株）.pdf',\n",
       " '（株）デコルテ・ホールディングス.pdf',\n",
       " '（株）SharingInnovations.pdf',\n",
       " '（株）雪国まいたけ.pdf',\n",
       " '（株）ｉ‐ｐｌｕｇ.pdf',\n",
       " 'リックソフト（株）.pdf',\n",
       " 'SIホールディングス（株）.pdf',\n",
       " '（株）ＮＡＴＴＹＳＷＡＮＫＹ.pdf',\n",
       " '（株）東京通信.pdf',\n",
       " '（株）ＢｅｅＸ.pdf']"
      ]
     },
     "execution_count": 17,
     "metadata": {},
     "output_type": "execute_result"
    }
   ],
   "source": [
    "files = os.listdir(path='.')\n",
    "files"
   ]
  },
  {
   "cell_type": "code",
   "execution_count": 19,
   "id": "3fefc5fa",
   "metadata": {},
   "outputs": [],
   "source": [
    "def pdf_to_txt():\n",
    "    for txt in files:\n",
    "        try:\n",
    "            # 読み込みたいPDFファイル\n",
    "            input_file = open('/Users/mac-user/Desktop/SMTB/業務関連/pdf_data/' + txt, 'rb')\n",
    "            # 書き込み用のテキストファイル\n",
    "            output_file = open('/Users/mac-user/Desktop/SMTB/業務関連/pdf_to_txt/'+ txt + '.txt', 'w')\n",
    "            # Layout Analysisのパラメーターを設定\n",
    "            laparams = LAParams()\n",
    "            # 共有リソースを格納するPDFリソースマネージャーオブジェクトを作成\n",
    "            resource_manager = PDFResourceManager()\n",
    "            # テキストに変換\n",
    "            device = TextConverter(resource_manager, output_file, laparams=laparams)\n",
    "            # ページの内容を処理するためのPDFインタプリタオブジェクトを作成\n",
    "            interpreter = PDFPageInterpreter(resource_manager, device)\n",
    "            # ドキュメントに含まれる各ページを処理\n",
    "            for page in PDFPage.get_pages(input_file):\n",
    "                interpreter.process_page(page)\n",
    "            print(txt + \" is done\")\n",
    "        except Exception as e:\n",
    "            print(txt + \" is error\")\n",
    "            print(e)"
   ]
  },
  {
   "cell_type": "code",
   "execution_count": 20,
   "id": "c04dd4f8",
   "metadata": {},
   "outputs": [
    {
     "name": "stdout",
     "output_type": "stream",
     "text": [
      "（株）リベルタ.pdf is done\n",
      "（株）ＲＯＢＯＴ　ＰＡＹＭＥＮＴ.pdf is done\n",
      "（株）おきなわフィナンシャルグループ.pdf is done\n"
     ]
    },
    {
     "name": "stderr",
     "output_type": "stream",
     "text": [
      "The PDF <_io.BufferedReader name='/Users/mac-user/Desktop/SMTB/業務関連/pdf_data/（株）ＡｍｉｄＡホールディングス.pdf'> contains a metadata field indicating that it should not allow text extraction. Ignoring this field and proceeding. Use the check_extractable if you want to raise an error in this case\n"
     ]
    },
    {
     "name": "stdout",
     "output_type": "stream",
     "text": [
      "（株）ジオコード.pdf is done\n"
     ]
    },
    {
     "name": "stderr",
     "output_type": "stream",
     "text": [
      "The PDF <_io.BufferedReader name='/Users/mac-user/Desktop/SMTB/業務関連/pdf_data/ITbookホールディングス（株）.pdf'> contains a metadata field indicating that it should not allow text extraction. Ignoring this field and proceeding. Use the check_extractable if you want to raise an error in this case\n"
     ]
    },
    {
     "name": "stdout",
     "output_type": "stream",
     "text": [
      "（株）ＡｍｉｄＡホールディングス.pdf is done\n"
     ]
    },
    {
     "name": "stderr",
     "output_type": "stream",
     "text": [
      "The PDF <_io.BufferedReader name='/Users/mac-user/Desktop/SMTB/業務関連/pdf_data/（株）リンク.pdf'> contains a metadata field indicating that it should not allow text extraction. Ignoring this field and proceeding. Use the check_extractable if you want to raise an error in this case\n"
     ]
    },
    {
     "name": "stdout",
     "output_type": "stream",
     "text": [
      "ITbookホールディングス（株）.pdf is done\n",
      "（株）リンク.pdf is done\n"
     ]
    },
    {
     "name": "stderr",
     "output_type": "stream",
     "text": [
      "The PDF <_io.BufferedReader name='/Users/mac-user/Desktop/SMTB/業務関連/pdf_data/日総工産（株）.pdf'> contains a metadata field indicating that it should not allow text extraction. Ignoring this field and proceeding. Use the check_extractable if you want to raise an error in this case\n"
     ]
    },
    {
     "name": "stdout",
     "output_type": "stream",
     "text": [
      "（株）グローバルインフォメーション.pdf is done\n"
     ]
    },
    {
     "name": "stderr",
     "output_type": "stream",
     "text": [
      "The PDF <_io.BufferedReader name='/Users/mac-user/Desktop/SMTB/業務関連/pdf_data/（株）マリオン.pdf'> contains a metadata field indicating that it should not allow text extraction. Ignoring this field and proceeding. Use the check_extractable if you want to raise an error in this case\n"
     ]
    },
    {
     "name": "stdout",
     "output_type": "stream",
     "text": [
      "日総工産（株）.pdf is done\n"
     ]
    },
    {
     "name": "stderr",
     "output_type": "stream",
     "text": [
      "The PDF <_io.BufferedReader name='/Users/mac-user/Desktop/SMTB/業務関連/pdf_data/ギークス（株）.pdf'> contains a metadata field indicating that it should not allow text extraction. Ignoring this field and proceeding. Use the check_extractable if you want to raise an error in this case\n"
     ]
    },
    {
     "name": "stdout",
     "output_type": "stream",
     "text": [
      "（株）マリオン.pdf is done\n"
     ]
    },
    {
     "name": "stderr",
     "output_type": "stream",
     "text": [
      "The PDF <_io.BufferedReader name='/Users/mac-user/Desktop/SMTB/業務関連/pdf_data/（株）ＡＬｉＮＫインターネット.pdf'> contains a metadata field indicating that it should not allow text extraction. Ignoring this field and proceeding. Use the check_extractable if you want to raise an error in this case\n"
     ]
    },
    {
     "name": "stdout",
     "output_type": "stream",
     "text": [
      "ギークス（株）.pdf is done\n"
     ]
    },
    {
     "name": "stderr",
     "output_type": "stream",
     "text": [
      "The PDF <_io.BufferedReader name='/Users/mac-user/Desktop/SMTB/業務関連/pdf_data/SREホールディングス（株）.pdf'> contains a metadata field indicating that it should not allow text extraction. Ignoring this field and proceeding. Use the check_extractable if you want to raise an error in this case\n"
     ]
    },
    {
     "name": "stdout",
     "output_type": "stream",
     "text": [
      "（株）ＡＬｉＮＫインターネット.pdf is done\n",
      "SREホールディングス（株）.pdf is done\n"
     ]
    },
    {
     "name": "stderr",
     "output_type": "stream",
     "text": [
      "The PDF <_io.BufferedReader name='/Users/mac-user/Desktop/SMTB/業務関連/pdf_data/BASE（株）.pdf'> contains a metadata field indicating that it should not allow text extraction. Ignoring this field and proceeding. Use the check_extractable if you want to raise an error in this case\n"
     ]
    },
    {
     "name": "stdout",
     "output_type": "stream",
     "text": [
      "（株）Ｍａｃｂｅｅ　Ｐｌａｎｅｔ.pdf is done\n",
      "BASE（株）.pdf is done\n",
      "（株）レナサイエンス.pdf is done\n",
      "日本エコシステム（株）.pdf is done\n",
      "（株）ライトワークス.pdf is done\n",
      "（株）サイエンスアーツ.pdf is done\n"
     ]
    },
    {
     "name": "stderr",
     "output_type": "stream",
     "text": [
      "The PDF <_io.BufferedReader name='/Users/mac-user/Desktop/SMTB/業務関連/pdf_data/ａｎｄ\\u3000ｆａｃｔｏｒｙ（株）.pdf'> contains a metadata field indicating that it should not allow text extraction. Ignoring this field and proceeding. Use the check_extractable if you want to raise an error in this case\n"
     ]
    },
    {
     "name": "stdout",
     "output_type": "stream",
     "text": [
      "（株）くふうカンパニー.pdf is done\n",
      "ａｎｄ　ｆａｃｔｏｒｙ（株）.pdf is done\n",
      "（株）グラッドキューブ.pdf is done\n"
     ]
    },
    {
     "name": "stderr",
     "output_type": "stream",
     "text": [
      "The PDF <_io.BufferedReader name='/Users/mac-user/Desktop/SMTB/業務関連/pdf_data/（株）ハウテレビジョン.pdf'> contains a metadata field indicating that it should not allow text extraction. Ignoring this field and proceeding. Use the check_extractable if you want to raise an error in this case\n"
     ]
    },
    {
     "name": "stdout",
     "output_type": "stream",
     "text": [
      "（株）Ｍ＆Ａ総合研究所.pdf is done\n",
      "（株）ハウテレビジョン.pdf is done\n"
     ]
    },
    {
     "name": "stderr",
     "output_type": "stream",
     "text": [
      "The PDF <_io.BufferedReader name='/Users/mac-user/Desktop/SMTB/業務関連/pdf_data/（株）オリバー.pdf'> contains a metadata field indicating that it should not allow text extraction. Ignoring this field and proceeding. Use the check_extractable if you want to raise an error in this case\n"
     ]
    },
    {
     "name": "stdout",
     "output_type": "stream",
     "text": [
      "ウイングアーク１ｓｔ（株）.pdf is done\n",
      "（株）オリバー.pdf is done\n"
     ]
    },
    {
     "name": "stderr",
     "output_type": "stream",
     "text": [
      "The PDF <_io.BufferedReader name='/Users/mac-user/Desktop/SMTB/業務関連/pdf_data/（株）コプロ・ホールディングス.pdf'> contains a metadata field indicating that it should not allow text extraction. Ignoring this field and proceeding. Use the check_extractable if you want to raise an error in this case\n"
     ]
    },
    {
     "name": "stdout",
     "output_type": "stream",
     "text": [
      "室町ケミカル（株）.pdf is done\n"
     ]
    },
    {
     "name": "stderr",
     "output_type": "stream",
     "text": [
      "The PDF <_io.BufferedReader name='/Users/mac-user/Desktop/SMTB/業務関連/pdf_data/HENNGE（株）.pdf'> contains a metadata field indicating that it should not allow text extraction. Ignoring this field and proceeding. Use the check_extractable if you want to raise an error in this case\n"
     ]
    },
    {
     "name": "stdout",
     "output_type": "stream",
     "text": [
      "（株）コプロ・ホールディングス.pdf is done\n",
      "HENNGE（株）.pdf is done\n"
     ]
    },
    {
     "name": "stderr",
     "output_type": "stream",
     "text": [
      "The PDF <_io.BufferedReader name='/Users/mac-user/Desktop/SMTB/業務関連/pdf_data/ブリッジインターナショナル（株）.pdf'> contains a metadata field indicating that it should not allow text extraction. Ignoring this field and proceeding. Use the check_extractable if you want to raise an error in this case\n"
     ]
    },
    {
     "name": "stdout",
     "output_type": "stream",
     "text": [
      "ヤマイチ・ユニハイムエステート（株）.pdf is done\n"
     ]
    },
    {
     "name": "stderr",
     "output_type": "stream",
     "text": [
      "The PDF <_io.BufferedReader name='/Users/mac-user/Desktop/SMTB/業務関連/pdf_data/（株）ヤシマキザイ.pdf'> contains a metadata field indicating that it should not allow text extraction. Ignoring this field and proceeding. Use the check_extractable if you want to raise an error in this case\n"
     ]
    },
    {
     "name": "stdout",
     "output_type": "stream",
     "text": [
      "ブリッジインターナショナル（株）.pdf is done\n",
      "（株）ヤシマキザイ.pdf is done\n",
      "エッジテクノロジー（株）.pdf is done\n",
      "（株）FastFitnessJapan.pdf is done\n"
     ]
    },
    {
     "name": "stderr",
     "output_type": "stream",
     "text": [
      "The PDF <_io.BufferedReader name='/Users/mac-user/Desktop/SMTB/業務関連/pdf_data/HPCシステムズ（株）.pdf'> contains a metadata field indicating that it should not allow text extraction. Ignoring this field and proceeding. Use the check_extractable if you want to raise an error in this case\n"
     ]
    },
    {
     "name": "stdout",
     "output_type": "stream",
     "text": [
      "（株）網屋.pdf is done\n"
     ]
    },
    {
     "name": "stderr",
     "output_type": "stream",
     "text": [
      "The PDF <_io.BufferedReader name='/Users/mac-user/Desktop/SMTB/業務関連/pdf_data/（株）ＧＡ\\u3000ｔｅｃｈｎｏｌｏｇｉｅｓ.pdf'> contains a metadata field indicating that it should not allow text extraction. Ignoring this field and proceeding. Use the check_extractable if you want to raise an error in this case\n"
     ]
    },
    {
     "name": "stdout",
     "output_type": "stream",
     "text": [
      "HPCシステムズ（株）.pdf is done\n",
      "（株）ＧＡ　ｔｅｃｈｎｏｌｏｇｉｅｓ.pdf is done\n"
     ]
    },
    {
     "name": "stderr",
     "output_type": "stream",
     "text": [
      "The PDF <_io.BufferedReader name='/Users/mac-user/Desktop/SMTB/業務関連/pdf_data/（株）くふうカンパニーのコピー.pdf'> contains a metadata field indicating that it should not allow text extraction. Ignoring this field and proceeding. Use the check_extractable if you want to raise an error in this case\n"
     ]
    },
    {
     "name": "stdout",
     "output_type": "stream",
     "text": [
      "ローランド（株）.pdf is done\n",
      "（株）くふうカンパニーのコピー.pdf is done\n",
      "（株）松屋アールアンドディ.pdf is done\n",
      "（株）イメージ・マジック.pdf is done\n"
     ]
    },
    {
     "name": "stderr",
     "output_type": "stream",
     "text": [
      "The PDF <_io.BufferedReader name='/Users/mac-user/Desktop/SMTB/業務関連/pdf_data/（株）共和コーポレーション.pdf'> contains a metadata field indicating that it should not allow text extraction. Ignoring this field and proceeding. Use the check_extractable if you want to raise an error in this case\n"
     ]
    },
    {
     "name": "stdout",
     "output_type": "stream",
     "text": [
      "ティアンドエス（株）.pdf is done\n"
     ]
    },
    {
     "name": "stderr",
     "output_type": "stream",
     "text": [
      "The PDF <_io.BufferedReader name='/Users/mac-user/Desktop/SMTB/業務関連/pdf_data/（株）フィードフォース.pdf'> contains a metadata field indicating that it should not allow text extraction. Ignoring this field and proceeding. Use the check_extractable if you want to raise an error in this case\n"
     ]
    },
    {
     "name": "stdout",
     "output_type": "stream",
     "text": [
      "（株）共和コーポレーション.pdf is done\n",
      "（株）フィードフォース.pdf is done\n",
      "（株）ステムセル研究所.pdf is done\n",
      "（株）エフ・コード.pdf is done\n"
     ]
    },
    {
     "name": "stderr",
     "output_type": "stream",
     "text": [
      "The PDF <_io.BufferedReader name='/Users/mac-user/Desktop/SMTB/業務関連/pdf_data/（株）Ｌｉｎｋ－Ｕ.pdf'> contains a metadata field indicating that it should not allow text extraction. Ignoring this field and proceeding. Use the check_extractable if you want to raise an error in this case\n"
     ]
    },
    {
     "name": "stdout",
     "output_type": "stream",
     "text": [
      "（株）ＳＴＩフードホールディングス.pdf is done\n",
      "（株）Ｌｉｎｋ－Ｕ.pdf is done\n",
      "フルハシＥＰＯ（株）.pdf is done\n",
      "（株）きずなホールディングス.pdf is done\n"
     ]
    },
    {
     "name": "stderr",
     "output_type": "stream",
     "text": [
      "The PDF <_io.BufferedReader name='/Users/mac-user/Desktop/SMTB/業務関連/pdf_data/ログリー（株）.pdf'> contains a metadata field indicating that it should not allow text extraction. Ignoring this field and proceeding. Use the check_extractable if you want to raise an error in this case\n"
     ]
    },
    {
     "name": "stdout",
     "output_type": "stream",
     "text": [
      "（株）デジタリフト.pdf is done\n",
      "ログリー（株）.pdf is done\n",
      "（株）マーキュリーリアルテックイノベーター.pdf is done\n"
     ]
    },
    {
     "name": "stderr",
     "output_type": "stream",
     "text": [
      "The PDF <_io.BufferedReader name='/Users/mac-user/Desktop/SMTB/業務関連/pdf_data/ロジザード（株）.pdf'> contains a metadata field indicating that it should not allow text extraction. Ignoring this field and proceeding. Use the check_extractable if you want to raise an error in this case\n"
     ]
    },
    {
     "name": "stdout",
     "output_type": "stream",
     "text": [
      "ＡＩメカテック（株）.pdf is done\n",
      "ロジザード（株）.pdf is done\n",
      "（株）GRCS.pdf is done\n",
      "（株）一家ホールディングス.pdf is done\n",
      "（株）ロコガイド.pdf is done\n"
     ]
    },
    {
     "name": "stderr",
     "output_type": "stream",
     "text": [
      "The PDF <_io.BufferedReader name='/Users/mac-user/Desktop/SMTB/業務関連/pdf_data/（株）サーバーワークス.pdf'> contains a metadata field indicating that it should not allow text extraction. Ignoring this field and proceeding. Use the check_extractable if you want to raise an error in this case\n"
     ]
    },
    {
     "name": "stdout",
     "output_type": "stream",
     "text": [
      "セーフィー（株）.pdf is done\n",
      "（株）サーバーワークス.pdf is done\n",
      "ニューラルポケット（株）.pdf is done\n"
     ]
    },
    {
     "name": "stderr",
     "output_type": "stream",
     "text": [
      "The PDF <_io.BufferedReader name='/Users/mac-user/Desktop/SMTB/業務関連/pdf_data/（株）カクヤス.pdf'> contains a metadata field indicating that it should not allow text extraction. Ignoring this field and proceeding. Use the check_extractable if you want to raise an error in this case\n"
     ]
    },
    {
     "name": "stdout",
     "output_type": "stream",
     "text": [
      "（株）イーディーピー.pdf is done\n"
     ]
    },
    {
     "name": "stderr",
     "output_type": "stream",
     "text": [
      "The PDF <_io.BufferedReader name='/Users/mac-user/Desktop/SMTB/業務関連/pdf_data/AICROSS（株）.pdf'> contains a metadata field indicating that it should not allow text extraction. Ignoring this field and proceeding. Use the check_extractable if you want to raise an error in this case\n"
     ]
    },
    {
     "name": "stdout",
     "output_type": "stream",
     "text": [
      "（株）カクヤス.pdf is done\n",
      "AICROSS（株）.pdf is done\n",
      "オリエンタル白石（株）.pdf is done\n"
     ]
    },
    {
     "name": "stderr",
     "output_type": "stream",
     "text": [
      "The PDF <_io.BufferedReader name='/Users/mac-user/Desktop/SMTB/業務関連/pdf_data/（株）スペースマーケット.pdf'> contains a metadata field indicating that it should not allow text extraction. Ignoring this field and proceeding. Use the check_extractable if you want to raise an error in this case\n"
     ]
    },
    {
     "name": "stdout",
     "output_type": "stream",
     "text": [
      "コンピューターマネージメント（株）.pdf is done\n",
      "（株）スペースマーケット.pdf is done\n",
      "（株）シック・ホールディングス.pdf is done\n",
      "（株）カーブスホールディングス.pdf is done\n",
      "サークレイス（株）.pdf is done\n",
      "（株）十六フィナンシャルグループ.pdf is done\n",
      ".DS_Store is error\n",
      "No /Root object! - Is this really a PDF?\n"
     ]
    },
    {
     "name": "stderr",
     "output_type": "stream",
     "text": [
      "The PDF <_io.BufferedReader name='/Users/mac-user/Desktop/SMTB/業務関連/pdf_data/（株）エーアイ.pdf'> contains a metadata field indicating that it should not allow text extraction. Ignoring this field and proceeding. Use the check_extractable if you want to raise an error in this case\n"
     ]
    },
    {
     "name": "stdout",
     "output_type": "stream",
     "text": [
      "（株）LITALICO（2021年4月1日付で（株）LITALICOメディア＆ソリューションズから商号変更）.pdf is done\n",
      "（株）エーアイ.pdf is done\n",
      "（株）ワンキャリア.pdf is done\n",
      "（株）クルーバー.pdf is done\n",
      "スパイダープラス（株）.pdf is done\n",
      "（株）ランドネット.pdf is done\n",
      "（株）サーキュレーション.pdf is done\n"
     ]
    },
    {
     "name": "stderr",
     "output_type": "stream",
     "text": [
      "The PDF <_io.BufferedReader name='/Users/mac-user/Desktop/SMTB/業務関連/pdf_data/（株）識学.pdf'> contains a metadata field indicating that it should not allow text extraction. Ignoring this field and proceeding. Use the check_extractable if you want to raise an error in this case\n"
     ]
    },
    {
     "name": "stdout",
     "output_type": "stream",
     "text": [
      "（株）ＦＩＸＥＲ.pdf is done\n",
      "（株）識学.pdf is done\n",
      "（株）コマースOneホールディングス.pdf is done\n",
      "（株）セルム.pdf is done\n",
      "（株）ドラフト.pdf is done\n",
      "リバーホールディングス（株）.pdf is done\n"
     ]
    },
    {
     "name": "stderr",
     "output_type": "stream",
     "text": [
      "The PDF <_io.BufferedReader name='/Users/mac-user/Desktop/SMTB/業務関連/pdf_data/（株）アイ・ピー・エス（銘柄名：（株）ＩＰＳ）.pdf'> contains a metadata field indicating that it should not allow text extraction. Ignoring this field and proceeding. Use the check_extractable if you want to raise an error in this case\n"
     ]
    },
    {
     "name": "stdout",
     "output_type": "stream",
     "text": [
      "（株）プラスアルファ・コンサルティング.pdf is done\n",
      "（株）アイ・ピー・エス（銘柄名：（株）ＩＰＳ）.pdf is done\n",
      "（株）交換できるくん.pdf is done\n",
      "（株）コパ・コーポレーション.pdf is done\n",
      "（株）ジモティー.pdf is done\n"
     ]
    },
    {
     "name": "stderr",
     "output_type": "stream",
     "text": [
      "The PDF <_io.BufferedReader name='/Users/mac-user/Desktop/SMTB/業務関連/pdf_data/（株）ＭＴＧ.pdf'> contains a metadata field indicating that it should not allow text extraction. Ignoring this field and proceeding. Use the check_extractable if you want to raise an error in this case\n"
     ]
    },
    {
     "name": "stdout",
     "output_type": "stream",
     "text": [
      "サワイグループホールディングス（株）.pdf is done\n"
     ]
    },
    {
     "name": "stderr",
     "output_type": "stream",
     "text": [
      "The PDF <_io.BufferedReader name='/Users/mac-user/Desktop/SMTB/業務関連/pdf_data/（株）ビーアンドピー.pdf'> contains a metadata field indicating that it should not allow text extraction. Ignoring this field and proceeding. Use the check_extractable if you want to raise an error in this case\n"
     ]
    },
    {
     "name": "stdout",
     "output_type": "stream",
     "text": [
      "（株）ＭＴＧ.pdf is done\n"
     ]
    },
    {
     "name": "stderr",
     "output_type": "stream",
     "text": [
      "The PDF <_io.BufferedReader name='/Users/mac-user/Desktop/SMTB/業務関連/pdf_data/ベース（株）.pdf'> contains a metadata field indicating that it should not allow text extraction. Ignoring this field and proceeding. Use the check_extractable if you want to raise an error in this case\n"
     ]
    },
    {
     "name": "stdout",
     "output_type": "stream",
     "text": [
      "（株）ビーアンドピー.pdf is done\n",
      "ベース（株）.pdf is done\n",
      "（株）グッピーズ.pdf is done\n",
      "（株）ペルセウスプロテオミクス.pdf is done\n"
     ]
    },
    {
     "name": "stderr",
     "output_type": "stream",
     "text": [
      "The PDF <_io.BufferedReader name='/Users/mac-user/Desktop/SMTB/業務関連/pdf_data/（株）アクセスグループ・ホールディングス.pdf'> contains a metadata field indicating that it should not allow text extraction. Ignoring this field and proceeding. Use the check_extractable if you want to raise an error in this case\n"
     ]
    },
    {
     "name": "stdout",
     "output_type": "stream",
     "text": [
      "アジアクエスト（株）.pdf is done\n"
     ]
    },
    {
     "name": "stderr",
     "output_type": "stream",
     "text": [
      "The PDF <_io.BufferedReader name='/Users/mac-user/Desktop/SMTB/業務関連/pdf_data/ユーピーアール（株）.pdf'> contains a metadata field indicating that it should not allow text extraction. Ignoring this field and proceeding. Use the check_extractable if you want to raise an error in this case\n"
     ]
    },
    {
     "name": "stdout",
     "output_type": "stream",
     "text": [
      "（株）アクセスグループ・ホールディングス.pdf is done\n",
      "ユーピーアール（株）.pdf is done\n"
     ]
    },
    {
     "name": "stderr",
     "output_type": "stream",
     "text": [
      "The PDF <_io.BufferedReader name='/Users/mac-user/Desktop/SMTB/業務関連/pdf_data/（株）エクスモーション.pdf'> contains a metadata field indicating that it should not allow text extraction. Ignoring this field and proceeding. Use the check_extractable if you want to raise an error in this case\n"
     ]
    },
    {
     "name": "stdout",
     "output_type": "stream",
     "text": [
      "全研本社（株）.pdf is done\n",
      "（株）エクスモーション.pdf is done\n"
     ]
    },
    {
     "name": "stderr",
     "output_type": "stream",
     "text": [
      "The PDF <_io.BufferedReader name='/Users/mac-user/Desktop/SMTB/業務関連/pdf_data/（株）アクリート.pdf'> contains a metadata field indicating that it should not allow text extraction. Ignoring this field and proceeding. Use the check_extractable if you want to raise an error in this case\n"
     ]
    },
    {
     "name": "stdout",
     "output_type": "stream",
     "text": [
      "（株）ブロードエンタープライズ.pdf is done\n"
     ]
    },
    {
     "name": "stderr",
     "output_type": "stream",
     "text": [
      "The PDF <_io.BufferedReader name='/Users/mac-user/Desktop/SMTB/業務関連/pdf_data/（株）メルカリ.pdf'> contains a metadata field indicating that it should not allow text extraction. Ignoring this field and proceeding. Use the check_extractable if you want to raise an error in this case\n"
     ]
    },
    {
     "name": "stdout",
     "output_type": "stream",
     "text": [
      "（株）アクリート.pdf is done\n",
      "（株）メルカリ.pdf is done\n",
      "（株）ＦＰパートナー.pdf is done\n"
     ]
    },
    {
     "name": "stderr",
     "output_type": "stream",
     "text": [
      "The PDF <_io.BufferedReader name='/Users/mac-user/Desktop/SMTB/業務関連/pdf_data/（株）三十三フィナンシャルグループ.pdf'> contains a metadata field indicating that it should not allow text extraction. Ignoring this field and proceeding. Use the check_extractable if you want to raise an error in this case\n"
     ]
    },
    {
     "name": "stdout",
     "output_type": "stream",
     "text": [
      "（株）インターファクトリー.pdf is done\n",
      "（株）三十三フィナンシャルグループ.pdf is done\n"
     ]
    },
    {
     "name": "stderr",
     "output_type": "stream",
     "text": [
      "The PDF <_io.BufferedReader name='/Users/mac-user/Desktop/SMTB/業務関連/pdf_data/（株）Amazia.pdf'> contains a metadata field indicating that it should not allow text extraction. Ignoring this field and proceeding. Use the check_extractable if you want to raise an error in this case\n"
     ]
    },
    {
     "name": "stdout",
     "output_type": "stream",
     "text": [
      "（株）エアークローゼット.pdf is done\n",
      "（株）Amazia.pdf is done\n",
      "（株）ネットプロテクションズホールディングス.pdf is done\n"
     ]
    },
    {
     "name": "stderr",
     "output_type": "stream",
     "text": [
      "The PDF <_io.BufferedReader name='/Users/mac-user/Desktop/SMTB/業務関連/pdf_data/（株）ディ・アイ・システム.pdf'> contains a metadata field indicating that it should not allow text extraction. Ignoring this field and proceeding. Use the check_extractable if you want to raise an error in this case\n"
     ]
    },
    {
     "name": "stdout",
     "output_type": "stream",
     "text": [
      "ベイシス（株）.pdf is done\n",
      "（株）ディ・アイ・システム.pdf is done\n"
     ]
    },
    {
     "name": "stderr",
     "output_type": "stream",
     "text": [
      "The PDF <_io.BufferedReader name='/Users/mac-user/Desktop/SMTB/業務関連/pdf_data/（株）コンヴァノ.pdf'> contains a metadata field indicating that it should not allow text extraction. Ignoring this field and proceeding. Use the check_extractable if you want to raise an error in this case\n"
     ]
    },
    {
     "name": "stdout",
     "output_type": "stream",
     "text": [
      "（株）エコミック.pdf is done\n"
     ]
    },
    {
     "name": "stderr",
     "output_type": "stream",
     "text": [
      "The PDF <_io.BufferedReader name='/Users/mac-user/Desktop/SMTB/業務関連/pdf_data/（株）システムサポート.pdf'> contains a metadata field indicating that it should not allow text extraction. Ignoring this field and proceeding. Use the check_extractable if you want to raise an error in this case\n"
     ]
    },
    {
     "name": "stdout",
     "output_type": "stream",
     "text": [
      "（株）コンヴァノ.pdf is done\n",
      "（株）システムサポート.pdf is done\n"
     ]
    },
    {
     "name": "stderr",
     "output_type": "stream",
     "text": [
      "The PDF <_io.BufferedReader name='/Users/mac-user/Desktop/SMTB/業務関連/pdf_data/（株）ＡＤワークスグループ.pdf'> contains a metadata field indicating that it should not allow text extraction. Ignoring this field and proceeding. Use the check_extractable if you want to raise an error in this case\n"
     ]
    },
    {
     "name": "stdout",
     "output_type": "stream",
     "text": [
      "インヴァスト（株）.pdf is done\n",
      "（株）ＡＤワークスグループ.pdf is done\n",
      "ジェイフロンティア（株）.pdf is done\n",
      "（株）ＷＯＷ　ＷＯＲＬＤ　ＧＲＯＵＰ.pdf is done\n",
      "（株）ＬＡホールディングス.pdf is done\n"
     ]
    },
    {
     "name": "stderr",
     "output_type": "stream",
     "text": [
      "The PDF <_io.BufferedReader name='/Users/mac-user/Desktop/SMTB/業務関連/pdf_data/極東産機（株）.pdf'> contains a metadata field indicating that it should not allow text extraction. Ignoring this field and proceeding. Use the check_extractable if you want to raise an error in this case\n"
     ]
    },
    {
     "name": "stdout",
     "output_type": "stream",
     "text": [
      "（株）ココペリ.pdf is done\n"
     ]
    },
    {
     "name": "stderr",
     "output_type": "stream",
     "text": [
      "The PDF <_io.BufferedReader name='/Users/mac-user/Desktop/SMTB/業務関連/pdf_data/（株）ワールド.pdf'> contains a metadata field indicating that it should not allow text extraction. Ignoring this field and proceeding. Use the check_extractable if you want to raise an error in this case\n"
     ]
    },
    {
     "name": "stdout",
     "output_type": "stream",
     "text": [
      "極東産機（株）.pdf is done\n"
     ]
    },
    {
     "name": "stderr",
     "output_type": "stream",
     "text": [
      "The PDF <_io.BufferedReader name='/Users/mac-user/Desktop/SMTB/業務関連/pdf_data/プロパティデータバンク（株）.pdf'> contains a metadata field indicating that it should not allow text extraction. Ignoring this field and proceeding. Use the check_extractable if you want to raise an error in this case\n"
     ]
    },
    {
     "name": "stdout",
     "output_type": "stream",
     "text": [
      "（株）ワールド.pdf is done\n"
     ]
    },
    {
     "name": "stderr",
     "output_type": "stream",
     "text": [
      "The PDF <_io.BufferedReader name='/Users/mac-user/Desktop/SMTB/業務関連/pdf_data/（株）ダブルエー.pdf'> contains a metadata field indicating that it should not allow text extraction. Ignoring this field and proceeding. Use the check_extractable if you want to raise an error in this case\n"
     ]
    },
    {
     "name": "stdout",
     "output_type": "stream",
     "text": [
      "プロパティデータバンク（株）.pdf is done\n",
      "（株）ダブルエー.pdf is done\n"
     ]
    },
    {
     "name": "stderr",
     "output_type": "stream",
     "text": [
      "The PDF <_io.BufferedReader name='/Users/mac-user/Desktop/SMTB/業務関連/pdf_data/霞ヶ関キャピタル（株）.pdf'> contains a metadata field indicating that it should not allow text extraction. Ignoring this field and proceeding. Use the check_extractable if you want to raise an error in this case\n"
     ]
    },
    {
     "name": "stdout",
     "output_type": "stream",
     "text": [
      "（株）Ｆｉｎａｔｅｘｔホールディングス.pdf is done\n",
      "霞ヶ関キャピタル（株）.pdf is done\n"
     ]
    },
    {
     "name": "stderr",
     "output_type": "stream",
     "text": [
      "The PDF <_io.BufferedReader name='/Users/mac-user/Desktop/SMTB/業務関連/pdf_data/（株）オーケーエム.pdf'> contains a metadata field indicating that it should not allow text extraction. Ignoring this field and proceeding. Use the check_extractable if you want to raise an error in this case\n"
     ]
    },
    {
     "name": "stdout",
     "output_type": "stream",
     "text": [
      "フィーチャ（株）.pdf is done\n",
      "（株）オーケーエム.pdf is done\n"
     ]
    },
    {
     "name": "stderr",
     "output_type": "stream",
     "text": [
      "The PDF <_io.BufferedReader name='/Users/mac-user/Desktop/SMTB/業務関連/pdf_data/（株）Welby.pdf'> contains a metadata field indicating that it should not allow text extraction. Ignoring this field and proceeding. Use the check_extractable if you want to raise an error in this case\n"
     ]
    },
    {
     "name": "stdout",
     "output_type": "stream",
     "text": [
      "ＭＩＴホールディングス（株）.pdf is done\n"
     ]
    },
    {
     "name": "stderr",
     "output_type": "stream",
     "text": [
      "The PDF <_io.BufferedReader name='/Users/mac-user/Desktop/SMTB/業務関連/pdf_data/ＦＩＧ（株）.pdf'> contains a metadata field indicating that it should not allow text extraction. Ignoring this field and proceeding. Use the check_extractable if you want to raise an error in this case\n"
     ]
    },
    {
     "name": "stdout",
     "output_type": "stream",
     "text": [
      "（株）Welby.pdf is done\n",
      "ＦＩＧ（株）.pdf is done\n",
      "（株）インバウンドテック.pdf is done\n"
     ]
    },
    {
     "name": "stderr",
     "output_type": "stream",
     "text": [
      "The PDF <_io.BufferedReader name='/Users/mac-user/Desktop/SMTB/業務関連/pdf_data/ＨＥＲＯＺ（株）.pdf'> contains a metadata field indicating that it should not allow text extraction. Ignoring this field and proceeding. Use the check_extractable if you want to raise an error in this case\n"
     ]
    },
    {
     "name": "stdout",
     "output_type": "stream",
     "text": [
      "（株）キューブ.pdf is done\n",
      "ＨＥＲＯＺ（株）.pdf is done\n",
      "（株）クリーマ.pdf is done\n",
      "（株）サンウェルズ.pdf is done\n"
     ]
    },
    {
     "name": "stderr",
     "output_type": "stream",
     "text": [
      "The PDF <_io.BufferedReader name='/Users/mac-user/Desktop/SMTB/業務関連/pdf_data/（株）ミダック.pdf'> contains a metadata field indicating that it should not allow text extraction. Ignoring this field and proceeding. Use the check_extractable if you want to raise an error in this case\n"
     ]
    },
    {
     "name": "stdout",
     "output_type": "stream",
     "text": [
      "ＹＣＰホールディングス（グローバル）リミテッド.pdf is done\n"
     ]
    },
    {
     "name": "stderr",
     "output_type": "stream",
     "text": [
      "The PDF <_io.BufferedReader name='/Users/mac-user/Desktop/SMTB/業務関連/pdf_data/（株）ヴィッツ.pdf'> contains a metadata field indicating that it should not allow text extraction. Ignoring this field and proceeding. Use the check_extractable if you want to raise an error in this case\n"
     ]
    },
    {
     "name": "stdout",
     "output_type": "stream",
     "text": [
      "（株）ミダック.pdf is done\n",
      "（株）ヴィッツ.pdf is done\n",
      "（株）アクシージア.pdf is done\n",
      "ポーターズ（株）.pdf is done\n",
      "（株）クラシコム.pdf is done\n",
      "（株）Speee.pdf is done\n"
     ]
    },
    {
     "name": "stderr",
     "output_type": "stream",
     "text": [
      "The PDF <_io.BufferedReader name='/Users/mac-user/Desktop/SMTB/業務関連/pdf_data/ブックオフグループホールディングス（株）.pdf'> contains a metadata field indicating that it should not allow text extraction. Ignoring this field and proceeding. Use the check_extractable if you want to raise an error in this case\n"
     ]
    },
    {
     "name": "stdout",
     "output_type": "stream",
     "text": [
      "（株）いつも.pdf is done\n"
     ]
    },
    {
     "name": "stderr",
     "output_type": "stream",
     "text": [
      "The PDF <_io.BufferedReader name='/Users/mac-user/Desktop/SMTB/業務関連/pdf_data/（株）ＳＥＲＩＯホールディングス.pdf'> contains a metadata field indicating that it should not allow text extraction. Ignoring this field and proceeding. Use the check_extractable if you want to raise an error in this case\n"
     ]
    },
    {
     "name": "stdout",
     "output_type": "stream",
     "text": [
      "ブックオフグループホールディングス（株）.pdf is done\n"
     ]
    },
    {
     "name": "stderr",
     "output_type": "stream",
     "text": [
      "The PDF <_io.BufferedReader name='/Users/mac-user/Desktop/SMTB/業務関連/pdf_data/（株）インティメート・マージャー.pdf'> contains a metadata field indicating that it should not allow text extraction. Ignoring this field and proceeding. Use the check_extractable if you want to raise an error in this case\n"
     ]
    },
    {
     "name": "stdout",
     "output_type": "stream",
     "text": [
      "（株）ＳＥＲＩＯホールディングス.pdf is done\n",
      "（株）インティメート・マージャー.pdf is done\n",
      "ジャパニアス（株）.pdf is done\n"
     ]
    },
    {
     "name": "stderr",
     "output_type": "stream",
     "text": [
      "The PDF <_io.BufferedReader name='/Users/mac-user/Desktop/SMTB/業務関連/pdf_data/信和（株）.pdf'> contains a metadata field indicating that it should not allow text extraction. Ignoring this field and proceeding. Use the check_extractable if you want to raise an error in this case\n"
     ]
    },
    {
     "name": "stdout",
     "output_type": "stream",
     "text": [
      "（株）アールプランナー.pdf is done\n",
      "信和（株）.pdf is done\n"
     ]
    },
    {
     "name": "stderr",
     "output_type": "stream",
     "text": [
      "The PDF <_io.BufferedReader name='/Users/mac-user/Desktop/SMTB/業務関連/pdf_data/日本インシュレーション（株）.pdf'> contains a metadata field indicating that it should not allow text extraction. Ignoring this field and proceeding. Use the check_extractable if you want to raise an error in this case\n"
     ]
    },
    {
     "name": "stdout",
     "output_type": "stream",
     "text": [
      "ミアヘルサ（株）.pdf is done\n",
      "日本インシュレーション（株）.pdf is done\n"
     ]
    },
    {
     "name": "stderr",
     "output_type": "stream",
     "text": [
      "The PDF <_io.BufferedReader name='/Users/mac-user/Desktop/SMTB/業務関連/pdf_data/（株）スペースバリューホールディングス.pdf'> contains a metadata field indicating that it should not allow text extraction. Ignoring this field and proceeding. Use the check_extractable if you want to raise an error in this case\n"
     ]
    },
    {
     "name": "stdout",
     "output_type": "stream",
     "text": [
      "（株）ミクリード.pdf is done\n"
     ]
    },
    {
     "name": "stderr",
     "output_type": "stream",
     "text": [
      "The PDF <_io.BufferedReader name='/Users/mac-user/Desktop/SMTB/業務関連/pdf_data/（株）クワザワ.pdf'> contains a metadata field indicating that it should not allow text extraction. Ignoring this field and proceeding. Use the check_extractable if you want to raise an error in this case\n"
     ]
    },
    {
     "name": "stdout",
     "output_type": "stream",
     "text": [
      "（株）スペースバリューホールディングス.pdf is done\n",
      "（株）クワザワ.pdf is done\n"
     ]
    },
    {
     "name": "stderr",
     "output_type": "stream",
     "text": [
      "The PDF <_io.BufferedReader name='/Users/mac-user/Desktop/SMTB/業務関連/pdf_data/田中建設工業（株）.pdf'> contains a metadata field indicating that it should not allow text extraction. Ignoring this field and proceeding. Use the check_extractable if you want to raise an error in this case\n"
     ]
    },
    {
     "name": "stdout",
     "output_type": "stream",
     "text": [
      "エフビー介護サービス（株）.pdf is done\n",
      "田中建設工業（株）.pdf is done\n",
      "（株）ココナラ.pdf is done\n",
      "日通システム（株）.pdf is done\n"
     ]
    },
    {
     "name": "stderr",
     "output_type": "stream",
     "text": [
      "The PDF <_io.BufferedReader name='/Users/mac-user/Desktop/SMTB/業務関連/pdf_data/ダイヤモンドエレクトリックホールディングス（株）.pdf'> contains a metadata field indicating that it should not allow text extraction. Ignoring this field and proceeding. Use the check_extractable if you want to raise an error in this case\n"
     ]
    },
    {
     "name": "stdout",
     "output_type": "stream",
     "text": [
      "ＡＮＹＣＯＬＯＲ（株）.pdf is done\n",
      "ダイヤモンドエレクトリックホールディングス（株）.pdf is done\n"
     ]
    },
    {
     "name": "stderr",
     "output_type": "stream",
     "text": [
      "The PDF <_io.BufferedReader name='/Users/mac-user/Desktop/SMTB/業務関連/pdf_data/日本ホスピスホールディングス（株）.pdf'> contains a metadata field indicating that it should not allow text extraction. Ignoring this field and proceeding. Use the check_extractable if you want to raise an error in this case\n"
     ]
    },
    {
     "name": "stdout",
     "output_type": "stream",
     "text": [
      "スローガン（株）.pdf is done\n",
      "日本ホスピスホールディングス（株）.pdf is done\n"
     ]
    },
    {
     "name": "stderr",
     "output_type": "stream",
     "text": [
      "The PDF <_io.BufferedReader name='/Users/mac-user/Desktop/SMTB/業務関連/pdf_data/（株）レオクラン.pdf'> contains a metadata field indicating that it should not allow text extraction. Ignoring this field and proceeding. Use the check_extractable if you want to raise an error in this case\n"
     ]
    },
    {
     "name": "stdout",
     "output_type": "stream",
     "text": [
      "（株）関通.pdf is done\n",
      "（株）レオクラン.pdf is done\n"
     ]
    },
    {
     "name": "stderr",
     "output_type": "stream",
     "text": [
      "The PDF <_io.BufferedReader name='/Users/mac-user/Desktop/SMTB/業務関連/pdf_data/（株）イーエムネットジャパン.pdf'> contains a metadata field indicating that it should not allow text extraction. Ignoring this field and proceeding. Use the check_extractable if you want to raise an error in this case\n"
     ]
    },
    {
     "name": "stdout",
     "output_type": "stream",
     "text": [
      "ペットゴー（株）.pdf is done\n",
      "（株）イーエムネットジャパン.pdf is done\n",
      "ＰＨＣホールディングス（株）.pdf is done\n",
      "リニューアブル・ジャパン（株）.pdf is done\n",
      "（株）アースインフィニティ.pdf is done\n",
      "守谷輸送機工業（株）.pdf is done\n",
      "（株）タスキ.pdf is done\n",
      "タンゴヤ（株）.pdf is done\n",
      "（株）アイキューブドシステムズ.pdf is done\n",
      "藤久ホールディングス（株）.pdf is done\n"
     ]
    },
    {
     "name": "stderr",
     "output_type": "stream",
     "text": [
      "The PDF <_io.BufferedReader name='/Users/mac-user/Desktop/SMTB/業務関連/pdf_data/コーア商事ホールディングス（株）.pdf'> contains a metadata field indicating that it should not allow text extraction. Ignoring this field and proceeding. Use the check_extractable if you want to raise an error in this case\n"
     ]
    },
    {
     "name": "stdout",
     "output_type": "stream",
     "text": [
      "ジャパンワランティサポート（株）.pdf is done\n",
      "コーア商事ホールディングス（株）.pdf is done\n",
      "（株）Waqoo.pdf is done\n",
      "かっこ（株）.pdf is done\n"
     ]
    },
    {
     "name": "stderr",
     "output_type": "stream",
     "text": [
      "The PDF <_io.BufferedReader name='/Users/mac-user/Desktop/SMTB/業務関連/pdf_data/（株）エヌリンクス.pdf'> contains a metadata field indicating that it should not allow text extraction. Ignoring this field and proceeding. Use the check_extractable if you want to raise an error in this case\n"
     ]
    },
    {
     "name": "stdout",
     "output_type": "stream",
     "text": [
      "THECOO（株）.pdf is done\n"
     ]
    },
    {
     "name": "stderr",
     "output_type": "stream",
     "text": [
      "The PDF <_io.BufferedReader name='/Users/mac-user/Desktop/SMTB/業務関連/pdf_data/アルテリア・ネットワークス（株）.pdf'> contains a metadata field indicating that it should not allow text extraction. Ignoring this field and proceeding. Use the check_extractable if you want to raise an error in this case\n"
     ]
    },
    {
     "name": "stdout",
     "output_type": "stream",
     "text": [
      "（株）エヌリンクス.pdf is done\n"
     ]
    },
    {
     "name": "stderr",
     "output_type": "stream",
     "text": [
      "The PDF <_io.BufferedReader name='/Users/mac-user/Desktop/SMTB/業務関連/pdf_data/（株）ツクルバ.pdf'> contains a metadata field indicating that it should not allow text extraction. Ignoring this field and proceeding. Use the check_extractable if you want to raise an error in this case\n"
     ]
    },
    {
     "name": "stdout",
     "output_type": "stream",
     "text": [
      "アルテリア・ネットワークス（株）.pdf is done\n",
      "（株）ツクルバ.pdf is done\n"
     ]
    },
    {
     "name": "stderr",
     "output_type": "stream",
     "text": [
      "The PDF <_io.BufferedReader name='/Users/mac-user/Desktop/SMTB/業務関連/pdf_data/（株）和心.pdf'> contains a metadata field indicating that it should not allow text extraction. Ignoring this field and proceeding. Use the check_extractable if you want to raise an error in this case\n"
     ]
    },
    {
     "name": "stdout",
     "output_type": "stream",
     "text": [
      "モビルス（株）.pdf is done\n"
     ]
    },
    {
     "name": "stderr",
     "output_type": "stream",
     "text": [
      "The PDF <_io.BufferedReader name='/Users/mac-user/Desktop/SMTB/業務関連/pdf_data/Ｋｕｄａｎ（株）.pdf'> contains a metadata field indicating that it should not allow text extraction. Ignoring this field and proceeding. Use the check_extractable if you want to raise an error in this case\n"
     ]
    },
    {
     "name": "stdout",
     "output_type": "stream",
     "text": [
      "（株）和心.pdf is done\n"
     ]
    },
    {
     "name": "stderr",
     "output_type": "stream",
     "text": [
      "The PDF <_io.BufferedReader name='/Users/mac-user/Desktop/SMTB/業務関連/pdf_data/アルー（株）.pdf'> contains a metadata field indicating that it should not allow text extraction. Ignoring this field and proceeding. Use the check_extractable if you want to raise an error in this case\n"
     ]
    },
    {
     "name": "stdout",
     "output_type": "stream",
     "text": [
      "Ｋｕｄａｎ（株）.pdf is done\n",
      "アルー（株）.pdf is done\n",
      "（株）アクシス.pdf is done\n"
     ]
    },
    {
     "name": "stderr",
     "output_type": "stream",
     "text": [
      "The PDF <_io.BufferedReader name='/Users/mac-user/Desktop/SMTB/業務関連/pdf_data/セルソース（株）.pdf'> contains a metadata field indicating that it should not allow text extraction. Ignoring this field and proceeding. Use the check_extractable if you want to raise an error in this case\n"
     ]
    },
    {
     "name": "stdout",
     "output_type": "stream",
     "text": [
      "湖北工業（株）.pdf is done\n",
      "セルソース（株）.pdf is done\n"
     ]
    },
    {
     "name": "stderr",
     "output_type": "stream",
     "text": [
      "The PDF <_io.BufferedReader name='/Users/mac-user/Desktop/SMTB/業務関連/pdf_data/ブランディングテクノロジー（株）.pdf'> contains a metadata field indicating that it should not allow text extraction. Ignoring this field and proceeding. Use the check_extractable if you want to raise an error in this case\n"
     ]
    },
    {
     "name": "stdout",
     "output_type": "stream",
     "text": [
      "グローバルセキュリティエキスパート（株）.pdf is done\n",
      "ブランディングテクノロジー（株）.pdf is done\n",
      "ＧｒｅｅｎＥａｒｔｈＩｎｓｔｉｔｕｔｅ（株）.pdf is done\n",
      "（株）ラキール.pdf is done\n",
      "（株）ＣＳ－Ｃ.pdf is done\n",
      "メディア総研（株）.pdf is done\n"
     ]
    },
    {
     "name": "stderr",
     "output_type": "stream",
     "text": [
      "The PDF <_io.BufferedReader name='/Users/mac-user/Desktop/SMTB/業務関連/pdf_data/（株）ライトアップ.pdf'> contains a metadata field indicating that it should not allow text extraction. Ignoring this field and proceeding. Use the check_extractable if you want to raise an error in this case\n"
     ]
    },
    {
     "name": "stdout",
     "output_type": "stream",
     "text": [
      "ＩＮＥＳＴ（株）.pdf is done\n"
     ]
    },
    {
     "name": "stderr",
     "output_type": "stream",
     "text": [
      "The PDF <_io.BufferedReader name='/Users/mac-user/Desktop/SMTB/業務関連/pdf_data/（株）ヒト・コミュニケーションズ・ホールディングス.pdf'> contains a metadata field indicating that it should not allow text extraction. Ignoring this field and proceeding. Use the check_extractable if you want to raise an error in this case\n"
     ]
    },
    {
     "name": "stdout",
     "output_type": "stream",
     "text": [
      "（株）ライトアップ.pdf is done\n"
     ]
    },
    {
     "name": "stderr",
     "output_type": "stream",
     "text": [
      "The PDF <_io.BufferedReader name='/Users/mac-user/Desktop/SMTB/業務関連/pdf_data/ＲＰＡホールディングス（株）.pdf'> contains a metadata field indicating that it should not allow text extraction. Ignoring this field and proceeding. Use the check_extractable if you want to raise an error in this case\n"
     ]
    },
    {
     "name": "stdout",
     "output_type": "stream",
     "text": [
      "（株）ヒト・コミュニケーションズ・ホールディングス.pdf is done\n",
      "ＲＰＡホールディングス（株）.pdf is done\n"
     ]
    },
    {
     "name": "stderr",
     "output_type": "stream",
     "text": [
      "The PDF <_io.BufferedReader name='/Users/mac-user/Desktop/SMTB/業務関連/pdf_data/神戸天然物化学（株）.pdf'> contains a metadata field indicating that it should not allow text extraction. Ignoring this field and proceeding. Use the check_extractable if you want to raise an error in this case\n"
     ]
    },
    {
     "name": "stdout",
     "output_type": "stream",
     "text": [
      "（株）QDレーザ.pdf is done\n",
      "神戸天然物化学（株）.pdf is done\n"
     ]
    },
    {
     "name": "stderr",
     "output_type": "stream",
     "text": [
      "The PDF <_io.BufferedReader name='/Users/mac-user/Desktop/SMTB/業務関連/pdf_data/日本情報クリエイト（株）.pdf'> contains a metadata field indicating that it should not allow text extraction. Ignoring this field and proceeding. Use the check_extractable if you want to raise an error in this case\n"
     ]
    },
    {
     "name": "stdout",
     "output_type": "stream",
     "text": [
      "（株）ＴＯＲＩＣＯ.pdf is done\n"
     ]
    },
    {
     "name": "stderr",
     "output_type": "stream",
     "text": [
      "The PDF <_io.BufferedReader name='/Users/mac-user/Desktop/SMTB/業務関連/pdf_data/gooddaysホールディングス（株）.pdf'> contains a metadata field indicating that it should not allow text extraction. Ignoring this field and proceeding. Use the check_extractable if you want to raise an error in this case\n"
     ]
    },
    {
     "name": "stdout",
     "output_type": "stream",
     "text": [
      "日本情報クリエイト（株）.pdf is done\n",
      "gooddaysホールディングス（株）.pdf is done\n"
     ]
    },
    {
     "name": "stderr",
     "output_type": "stream",
     "text": [
      "The PDF <_io.BufferedReader name='/Users/mac-user/Desktop/SMTB/業務関連/pdf_data/ソフトバンク（株）.pdf'> contains a metadata field indicating that it should not allow text extraction. Ignoring this field and proceeding. Use the check_extractable if you want to raise an error in this case\n"
     ]
    },
    {
     "name": "stdout",
     "output_type": "stream",
     "text": [
      "（株）coly.pdf is done\n"
     ]
    },
    {
     "name": "stderr",
     "output_type": "stream",
     "text": [
      "The PDF <_io.BufferedReader name='/Users/mac-user/Desktop/SMTB/業務関連/pdf_data/Ｄｅｌｔａ－Ｆｌｙ\\u3000Ｐｈａｒｍａ（株）.pdf'> contains a metadata field indicating that it should not allow text extraction. Ignoring this field and proceeding. Use the check_extractable if you want to raise an error in this case\n"
     ]
    },
    {
     "name": "stdout",
     "output_type": "stream",
     "text": [
      "ソフトバンク（株）.pdf is done\n"
     ]
    },
    {
     "name": "stderr",
     "output_type": "stream",
     "text": [
      "The PDF <_io.BufferedReader name='/Users/mac-user/Desktop/SMTB/業務関連/pdf_data/（株）ギフティ.pdf'> contains a metadata field indicating that it should not allow text extraction. Ignoring this field and proceeding. Use the check_extractable if you want to raise an error in this case\n"
     ]
    },
    {
     "name": "stdout",
     "output_type": "stream",
     "text": [
      "Ｄｅｌｔａ－Ｆｌｙ　Ｐｈａｒｍａ（株）.pdf is done\n"
     ]
    },
    {
     "name": "stderr",
     "output_type": "stream",
     "text": [
      "The PDF <_io.BufferedReader name='/Users/mac-user/Desktop/SMTB/業務関連/pdf_data/（株）メドレー.pdf'> contains a metadata field indicating that it should not allow text extraction. Ignoring this field and proceeding. Use the check_extractable if you want to raise an error in this case\n"
     ]
    },
    {
     "name": "stdout",
     "output_type": "stream",
     "text": [
      "（株）ギフティ.pdf is done\n",
      "（株）メドレー.pdf is done\n",
      "（株）フォーラムエンジニアリング.pdf is done\n"
     ]
    },
    {
     "name": "stderr",
     "output_type": "stream",
     "text": [
      "The PDF <_io.BufferedReader name='/Users/mac-user/Desktop/SMTB/業務関連/pdf_data/総合メディカルホールディングス（株）.pdf'> contains a metadata field indicating that it should not allow text extraction. Ignoring this field and proceeding. Use the check_extractable if you want to raise an error in this case\n"
     ]
    },
    {
     "name": "stdout",
     "output_type": "stream",
     "text": [
      "東和ハイシステム（株）.pdf is done\n",
      "総合メディカルホールディングス（株）.pdf is done\n",
      "サスメド（株）.pdf is done\n"
     ]
    },
    {
     "name": "stderr",
     "output_type": "stream",
     "text": [
      "The PDF <_io.BufferedReader name='/Users/mac-user/Desktop/SMTB/業務関連/pdf_data/（株）グッドスピード.pdf'> contains a metadata field indicating that it should not allow text extraction. Ignoring this field and proceeding. Use the check_extractable if you want to raise an error in this case\n"
     ]
    },
    {
     "name": "stdout",
     "output_type": "stream",
     "text": [
      "バルミューダ（株）.pdf is done\n",
      "（株）グッドスピード.pdf is done\n",
      "（株）丸順.pdf is done\n",
      "日本電解（株）.pdf is done\n",
      "（株）エクサウィザーズ.pdf is done\n",
      "ＩＮＴＬＯＯＰ（株）.pdf is done\n",
      "（株）Ｉ－ｎｅ.pdf is done\n",
      "セレンディップ・ホールディングス（株）.pdf is done\n",
      "（株）プログリット.pdf is done\n"
     ]
    },
    {
     "name": "stderr",
     "output_type": "stream",
     "text": [
      "The PDF <_io.BufferedReader name='/Users/mac-user/Desktop/SMTB/業務関連/pdf_data/（株）サイバー・バズ.pdf'> contains a metadata field indicating that it should not allow text extraction. Ignoring this field and proceeding. Use the check_extractable if you want to raise an error in this case\n"
     ]
    },
    {
     "name": "stdout",
     "output_type": "stream",
     "text": [
      "三和油化工業（株）.pdf is done\n",
      "（株）サイバー・バズ.pdf is done\n",
      "（株）CINC.pdf is done\n",
      "（株）メンタルヘルステクノロジーズ.pdf is done\n",
      "（株）NexTone.pdf is done\n",
      "ドリームベッド（株）.pdf is done\n",
      "（株）アイ・パートナーズフィナンシャル.pdf is done\n",
      "（株）ＢｌｕｅＭｅｍｅ.pdf is done\n",
      "（株）アスタリスク.pdf is done\n",
      "（株）ＡＶｉＣ.pdf is done\n"
     ]
    },
    {
     "name": "stderr",
     "output_type": "stream",
     "text": [
      "The PDF <_io.BufferedReader name='/Users/mac-user/Desktop/SMTB/業務関連/pdf_data/（株）スプリックス.pdf'> contains a metadata field indicating that it should not allow text extraction. Ignoring this field and proceeding. Use the check_extractable if you want to raise an error in this case\n"
     ]
    },
    {
     "name": "stdout",
     "output_type": "stream",
     "text": [
      "（株）カラダノート.pdf is done\n",
      "（株）スプリックス.pdf is done\n",
      "サイバートラスト（株）.pdf is done\n",
      "（株）マナック・ケミカル・パートナーズ.pdf is done\n",
      "ニフティライフスタイル（株）.pdf is done\n"
     ]
    },
    {
     "name": "stderr",
     "output_type": "stream",
     "text": [
      "The PDF <_io.BufferedReader name='/Users/mac-user/Desktop/SMTB/業務関連/pdf_data/（株）アズーム.pdf'> contains a metadata field indicating that it should not allow text extraction. Ignoring this field and proceeding. Use the check_extractable if you want to raise an error in this case\n"
     ]
    },
    {
     "name": "stdout",
     "output_type": "stream",
     "text": [
      "（株）ライフドリンクカンパニー.pdf is done\n"
     ]
    },
    {
     "name": "stderr",
     "output_type": "stream",
     "text": [
      "The PDF <_io.BufferedReader name='/Users/mac-user/Desktop/SMTB/業務関連/pdf_data/（株）第四北越フィナンシャルグループ.pdf'> contains a metadata field indicating that it should not allow text extraction. Ignoring this field and proceeding. Use the check_extractable if you want to raise an error in this case\n"
     ]
    },
    {
     "name": "stdout",
     "output_type": "stream",
     "text": [
      "（株）アズーム.pdf is done\n",
      "（株）第四北越フィナンシャルグループ.pdf is done\n",
      "（株）シイエヌエス.pdf is done\n",
      "（株）リビングプラットフォーム.pdf is done\n",
      "ポバール興業（株）.pdf is done\n"
     ]
    },
    {
     "name": "stderr",
     "output_type": "stream",
     "text": [
      "The PDF <_io.BufferedReader name='/Users/mac-user/Desktop/SMTB/業務関連/pdf_data/トビラシステムズ（株）.pdf'> contains a metadata field indicating that it should not allow text extraction. Ignoring this field and proceeding. Use the check_extractable if you want to raise an error in this case\n"
     ]
    },
    {
     "name": "stdout",
     "output_type": "stream",
     "text": [
      "クリアル（株）.pdf is done\n",
      "トビラシステムズ（株）.pdf is done\n",
      "（株）岐阜造園.pdf is done\n",
      "（株）ベビーカレンダー.pdf is done\n",
      "（株）マーキュリアホールディングス.pdf is done\n"
     ]
    },
    {
     "name": "stderr",
     "output_type": "stream",
     "text": [
      "The PDF <_io.BufferedReader name='/Users/mac-user/Desktop/SMTB/業務関連/pdf_data/（株）東名.pdf'> contains a metadata field indicating that it should not allow text extraction. Ignoring this field and proceeding. Use the check_extractable if you want to raise an error in this case\n"
     ]
    },
    {
     "name": "stdout",
     "output_type": "stream",
     "text": [
      "（株）サインド.pdf is done\n"
     ]
    },
    {
     "name": "stderr",
     "output_type": "stream",
     "text": [
      "The PDF <_io.BufferedReader name='/Users/mac-user/Desktop/SMTB/業務関連/pdf_data/（株）アズ企画設計.pdf'> contains a metadata field indicating that it should not allow text extraction. Ignoring this field and proceeding. Use the check_extractable if you want to raise an error in this case\n"
     ]
    },
    {
     "name": "stdout",
     "output_type": "stream",
     "text": [
      "（株）東名.pdf is done\n",
      "（株）アズ企画設計.pdf is done\n",
      "ウェルスナビ（株）.pdf is done\n",
      "（株）ヒューマンクリエイションホールディングス.pdf is done\n"
     ]
    },
    {
     "name": "stderr",
     "output_type": "stream",
     "text": [
      "The PDF <_io.BufferedReader name='/Users/mac-user/Desktop/SMTB/業務関連/pdf_data/（株）チームスピリット.pdf'> contains a metadata field indicating that it should not allow text extraction. Ignoring this field and proceeding. Use the check_extractable if you want to raise an error in this case\n"
     ]
    },
    {
     "name": "stdout",
     "output_type": "stream",
     "text": [
      "（株）さくらさくプラス.pdf is done\n",
      "（株）チームスピリット.pdf is done\n",
      "ミアヘルサホールディングス（株）.pdf is done\n",
      "（株）ＴｒｕｅＤａｔａ.pdf is done\n",
      "（株）ヘッドウォータース.pdf is done\n",
      "（株）スタメン.pdf is done\n",
      "リンカーズ（株）.pdf is done\n"
     ]
    },
    {
     "name": "stderr",
     "output_type": "stream",
     "text": [
      "The PDF <_io.BufferedReader name='/Users/mac-user/Desktop/SMTB/業務関連/pdf_data/ビープラッツ（株）.pdf'> contains a metadata field indicating that it should not allow text extraction. Ignoring this field and proceeding. Use the check_extractable if you want to raise an error in this case\n"
     ]
    },
    {
     "name": "stdout",
     "output_type": "stream",
     "text": [
      "（株）サクシード.pdf is done\n"
     ]
    },
    {
     "name": "stderr",
     "output_type": "stream",
     "text": [
      "The PDF <_io.BufferedReader name='/Users/mac-user/Desktop/SMTB/業務関連/pdf_data/エコモット（株）.pdf'> contains a metadata field indicating that it should not allow text extraction. Ignoring this field and proceeding. Use the check_extractable if you want to raise an error in this case\n"
     ]
    },
    {
     "name": "stdout",
     "output_type": "stream",
     "text": [
      "ビープラッツ（株）.pdf is done\n"
     ]
    },
    {
     "name": "stderr",
     "output_type": "stream",
     "text": [
      "The PDF <_io.BufferedReader name='/Users/mac-user/Desktop/SMTB/業務関連/pdf_data/（株）ナルミヤ・インターナショナル.pdf'> contains a metadata field indicating that it should not allow text extraction. Ignoring this field and proceeding. Use the check_extractable if you want to raise an error in this case\n"
     ]
    },
    {
     "name": "stdout",
     "output_type": "stream",
     "text": [
      "エコモット（株）.pdf is done\n",
      "（株）ナルミヤ・インターナショナル.pdf is done\n"
     ]
    },
    {
     "name": "stderr",
     "output_type": "stream",
     "text": [
      "The PDF <_io.BufferedReader name='/Users/mac-user/Desktop/SMTB/業務関連/pdf_data/（株）テクノフレックス.pdf'> contains a metadata field indicating that it should not allow text extraction. Ignoring this field and proceeding. Use the check_extractable if you want to raise an error in this case\n"
     ]
    },
    {
     "name": "stdout",
     "output_type": "stream",
     "text": [
      "（株）ゼネテック.pdf is done\n",
      "（株）テクノフレックス.pdf is done\n",
      "（株）セレコーポレーション.pdf is done\n"
     ]
    },
    {
     "name": "stderr",
     "output_type": "stream",
     "text": [
      "The PDF <_io.BufferedReader name='/Users/mac-user/Desktop/SMTB/業務関連/pdf_data/（株）ＫＨＣ.pdf'> contains a metadata field indicating that it should not allow text extraction. Ignoring this field and proceeding. Use the check_extractable if you want to raise an error in this case\n"
     ]
    },
    {
     "name": "stdout",
     "output_type": "stream",
     "text": [
      "（株）コンフィデンス.pdf is done\n"
     ]
    },
    {
     "name": "stderr",
     "output_type": "stream",
     "text": [
      "The PDF <_io.BufferedReader name='/Users/mac-user/Desktop/SMTB/業務関連/pdf_data/（株）自律制御システム研究所.pdf'> contains a metadata field indicating that it should not allow text extraction. Ignoring this field and proceeding. Use the check_extractable if you want to raise an error in this case\n"
     ]
    },
    {
     "name": "stdout",
     "output_type": "stream",
     "text": [
      "（株）ＫＨＣ.pdf is done\n",
      "（株）自律制御システム研究所.pdf is done\n",
      "テスホールディングス（株）.pdf is done\n",
      "NIPPONEXPRESSホールディングス（株）.pdf is done\n",
      "バリオセキュア（株）.pdf is done\n",
      "（株）KaizenPlatform.pdf is done\n"
     ]
    },
    {
     "name": "stderr",
     "output_type": "stream",
     "text": [
      "The PDF <_io.BufferedReader name='/Users/mac-user/Desktop/SMTB/業務関連/pdf_data/（株）ミンカブ・ジ・インフォノイド.pdf'> contains a metadata field indicating that it should not allow text extraction. Ignoring this field and proceeding. Use the check_extractable if you want to raise an error in this case\n"
     ]
    },
    {
     "name": "stdout",
     "output_type": "stream",
     "text": [
      "（株）リベロ.pdf is done\n"
     ]
    },
    {
     "name": "stderr",
     "output_type": "stream",
     "text": [
      "The PDF <_io.BufferedReader name='/Users/mac-user/Desktop/SMTB/業務関連/pdf_data/アイペット損害保険（株）.pdf'> contains a metadata field indicating that it should not allow text extraction. Ignoring this field and proceeding. Use the check_extractable if you want to raise an error in this case\n"
     ]
    },
    {
     "name": "stdout",
     "output_type": "stream",
     "text": [
      "（株）ミンカブ・ジ・インフォノイド.pdf is done\n"
     ]
    },
    {
     "name": "stderr",
     "output_type": "stream",
     "text": [
      "The PDF <_io.BufferedReader name='/Users/mac-user/Desktop/SMTB/業務関連/pdf_data/恵和（株）.pdf'> contains a metadata field indicating that it should not allow text extraction. Ignoring this field and proceeding. Use the check_extractable if you want to raise an error in this case\n"
     ]
    },
    {
     "name": "stdout",
     "output_type": "stream",
     "text": [
      "アイペット損害保険（株）.pdf is done\n",
      "恵和（株）.pdf is done\n",
      "ステラファーマ（株）.pdf is done\n"
     ]
    },
    {
     "name": "stderr",
     "output_type": "stream",
     "text": [
      "The PDF <_io.BufferedReader name='/Users/mac-user/Desktop/SMTB/業務関連/pdf_data/（株）ピアズ.pdf'> contains a metadata field indicating that it should not allow text extraction. Ignoring this field and proceeding. Use the check_extractable if you want to raise an error in this case\n"
     ]
    },
    {
     "name": "stdout",
     "output_type": "stream",
     "text": [
      "（株）SunAsterisk.pdf is done\n",
      "（株）ピアズ.pdf is done\n",
      "（株）プロクレアホールディングス.pdf is done\n",
      "（株）AB_Company.pdf is done\n"
     ]
    },
    {
     "name": "stderr",
     "output_type": "stream",
     "text": [
      "The PDF <_io.BufferedReader name='/Users/mac-user/Desktop/SMTB/業務関連/pdf_data/ＶＡＬＵＥＮＥＸ（株）.pdf'> contains a metadata field indicating that it should not allow text extraction. Ignoring this field and proceeding. Use the check_extractable if you want to raise an error in this case\n"
     ]
    },
    {
     "name": "stdout",
     "output_type": "stream",
     "text": [
      "（株）コラントッテ.pdf is done\n",
      "ＶＡＬＵＥＮＥＸ（株）.pdf is done\n",
      "（株）プレイド.pdf is done\n",
      "フルサト・マルカホールディングス（株）.pdf is done\n"
     ]
    },
    {
     "name": "stderr",
     "output_type": "stream",
     "text": [
      "The PDF <_io.BufferedReader name='/Users/mac-user/Desktop/SMTB/業務関連/pdf_data/（株）ベストワンドットコム.pdf'> contains a metadata field indicating that it should not allow text extraction. Ignoring this field and proceeding. Use the check_extractable if you want to raise an error in this case\n"
     ]
    },
    {
     "name": "stdout",
     "output_type": "stream",
     "text": [
      "（株）イー・ロジット.pdf is done\n",
      "（株）ベストワンドットコム.pdf is done\n",
      "ユミルリンク（株）.pdf is done\n"
     ]
    },
    {
     "name": "stderr",
     "output_type": "stream",
     "text": [
      "The PDF <_io.BufferedReader name='/Users/mac-user/Desktop/SMTB/業務関連/pdf_data/（株）エヌ・シー・エヌ.pdf'> contains a metadata field indicating that it should not allow text extraction. Ignoring this field and proceeding. Use the check_extractable if you want to raise an error in this case\n"
     ]
    },
    {
     "name": "stdout",
     "output_type": "stream",
     "text": [
      "ビジョナル（株）.pdf is done\n"
     ]
    },
    {
     "name": "stderr",
     "output_type": "stream",
     "text": [
      "The PDF <_io.BufferedReader name='/Users/mac-user/Desktop/SMTB/業務関連/pdf_data/リビン・テクノロジーズ（株）.pdf'> contains a metadata field indicating that it should not allow text extraction. Ignoring this field and proceeding. Use the check_extractable if you want to raise an error in this case\n"
     ]
    },
    {
     "name": "stdout",
     "output_type": "stream",
     "text": [
      "（株）エヌ・シー・エヌ.pdf is done\n",
      "リビン・テクノロジーズ（株）.pdf is done\n",
      "（株）Photosynth.pdf is done\n",
      "マイクロ波化学（株）.pdf is done\n",
      "（株）ダイレクトマーケティングミックス.pdf is done\n"
     ]
    },
    {
     "name": "stderr",
     "output_type": "stream",
     "text": [
      "The PDF <_io.BufferedReader name='/Users/mac-user/Desktop/SMTB/業務関連/pdf_data/ラクスル（株）.pdf'> contains a metadata field indicating that it should not allow text extraction. Ignoring this field and proceeding. Use the check_extractable if you want to raise an error in this case\n"
     ]
    },
    {
     "name": "stdout",
     "output_type": "stream",
     "text": [
      "（株）セキュア.pdf is done\n",
      "ラクスル（株）.pdf is done\n"
     ]
    },
    {
     "name": "stderr",
     "output_type": "stream",
     "text": [
      "The PDF <_io.BufferedReader name='/Users/mac-user/Desktop/SMTB/業務関連/pdf_data/ポート（株）.pdf'> contains a metadata field indicating that it should not allow text extraction. Ignoring this field and proceeding. Use the check_extractable if you want to raise an error in this case\n"
     ]
    },
    {
     "name": "stdout",
     "output_type": "stream",
     "text": [
      "ブロードマインド（株）.pdf is done\n"
     ]
    },
    {
     "name": "stderr",
     "output_type": "stream",
     "text": [
      "The PDF <_io.BufferedReader name='/Users/mac-user/Desktop/SMTB/業務関連/pdf_data/（株）BuySellTechnologies.pdf'> contains a metadata field indicating that it should not allow text extraction. Ignoring this field and proceeding. Use the check_extractable if you want to raise an error in this case\n"
     ]
    },
    {
     "name": "stdout",
     "output_type": "stream",
     "text": [
      "ポート（株）.pdf is done\n",
      "（株）BuySellTechnologies.pdf is done\n",
      "ＨＯＵＳＥＩ（株）.pdf is done\n"
     ]
    },
    {
     "name": "stderr",
     "output_type": "stream",
     "text": [
      "The PDF <_io.BufferedReader name='/Users/mac-user/Desktop/SMTB/業務関連/pdf_data/バルテス（株）.pdf'> contains a metadata field indicating that it should not allow text extraction. Ignoring this field and proceeding. Use the check_extractable if you want to raise an error in this case\n"
     ]
    },
    {
     "name": "stdout",
     "output_type": "stream",
     "text": [
      "（株）テンダ.pdf is done\n",
      "バルテス（株）.pdf is done\n",
      "コーユーレンティア（株）.pdf is done\n",
      "TREホールディングス（株）.pdf is done\n",
      "（株）グラフィコ.pdf is done\n",
      "（株）ＫＹＯＲＩＴＳＵ.pdf is done\n"
     ]
    },
    {
     "name": "stderr",
     "output_type": "stream",
     "text": [
      "The PDF <_io.BufferedReader name='/Users/mac-user/Desktop/SMTB/業務関連/pdf_data/（株）ＪＭＤＣ.pdf'> contains a metadata field indicating that it should not allow text extraction. Ignoring this field and proceeding. Use the check_extractable if you want to raise an error in this case\n"
     ]
    },
    {
     "name": "stdout",
     "output_type": "stream",
     "text": [
      "ワンダープラネット（株）.pdf is done\n",
      "（株）ＪＭＤＣ.pdf is done\n"
     ]
    },
    {
     "name": "stderr",
     "output_type": "stream",
     "text": [
      "The PDF <_io.BufferedReader name='/Users/mac-user/Desktop/SMTB/業務関連/pdf_data/フリー（株）.pdf'> contains a metadata field indicating that it should not allow text extraction. Ignoring this field and proceeding. Use the check_extractable if you want to raise an error in this case\n"
     ]
    },
    {
     "name": "stdout",
     "output_type": "stream",
     "text": [
      "（株）長栄.pdf is done\n"
     ]
    },
    {
     "name": "stderr",
     "output_type": "stream",
     "text": [
      "The PDF <_io.BufferedReader name='/Users/mac-user/Desktop/SMTB/業務関連/pdf_data/（株）マネジメントソリューションズ.pdf'> contains a metadata field indicating that it should not allow text extraction. Ignoring this field and proceeding. Use the check_extractable if you want to raise an error in this case\n"
     ]
    },
    {
     "name": "stdout",
     "output_type": "stream",
     "text": [
      "フリー（株）.pdf is done\n",
      "（株）マネジメントソリューションズ.pdf is done\n"
     ]
    },
    {
     "name": "stderr",
     "output_type": "stream",
     "text": [
      "The PDF <_io.BufferedReader name='/Users/mac-user/Desktop/SMTB/業務関連/pdf_data/日本リビング保証（株）.pdf'> contains a metadata field indicating that it should not allow text extraction. Ignoring this field and proceeding. Use the check_extractable if you want to raise an error in this case\n"
     ]
    },
    {
     "name": "stdout",
     "output_type": "stream",
     "text": [
      "（株）しずおかフィナンシャルグループ.pdf is done\n"
     ]
    },
    {
     "name": "stderr",
     "output_type": "stream",
     "text": [
      "The PDF <_io.BufferedReader name='/Users/mac-user/Desktop/SMTB/業務関連/pdf_data/インフロニア・ホールディングス（株）.pdf'> contains a metadata field indicating that it should not allow text extraction. Ignoring this field and proceeding. Use the check_extractable if you want to raise an error in this case\n"
     ]
    },
    {
     "name": "stdout",
     "output_type": "stream",
     "text": [
      "日本リビング保証（株）.pdf is done\n"
     ]
    },
    {
     "name": "stderr",
     "output_type": "stream",
     "text": [
      "The PDF <_io.BufferedReader name='/Users/mac-user/Desktop/SMTB/業務関連/pdf_data/ワシントンホテル（株）.pdf'> contains a metadata field indicating that it should not allow text extraction. Ignoring this field and proceeding. Use the check_extractable if you want to raise an error in this case\n"
     ]
    },
    {
     "name": "stdout",
     "output_type": "stream",
     "text": [
      "インフロニア・ホールディングス（株）.pdf is done\n"
     ]
    },
    {
     "name": "stderr",
     "output_type": "stream",
     "text": [
      "The PDF <_io.BufferedReader name='/Users/mac-user/Desktop/SMTB/業務関連/pdf_data/イーソル（株）.pdf'> contains a metadata field indicating that it should not allow text extraction. Ignoring this field and proceeding. Use the check_extractable if you want to raise an error in this case\n"
     ]
    },
    {
     "name": "stdout",
     "output_type": "stream",
     "text": [
      "ワシントンホテル（株）.pdf is done\n",
      "イーソル（株）.pdf is done\n"
     ]
    },
    {
     "name": "stderr",
     "output_type": "stream",
     "text": [
      "The PDF <_io.BufferedReader name='/Users/mac-user/Desktop/SMTB/業務関連/pdf_data/（株）ＳＯＵ.pdf'> contains a metadata field indicating that it should not allow text extraction. Ignoring this field and proceeding. Use the check_extractable if you want to raise an error in this case\n"
     ]
    },
    {
     "name": "stdout",
     "output_type": "stream",
     "text": [
      "（株）オキサイド.pdf is done\n",
      "（株）ＳＯＵ.pdf is done\n",
      "AtlasTechnologies（株）.pdf is done\n",
      "（株）ストレージ王.pdf is done\n"
     ]
    },
    {
     "name": "stderr",
     "output_type": "stream",
     "text": [
      "The PDF <_io.BufferedReader name='/Users/mac-user/Desktop/SMTB/業務関連/pdf_data/ヤマエ久野（株）.pdf'> contains a metadata field indicating that it should not allow text extraction. Ignoring this field and proceeding. Use the check_extractable if you want to raise an error in this case\n"
     ]
    },
    {
     "name": "stdout",
     "output_type": "stream",
     "text": [
      "GMOフィナンシャルゲート（株）.pdf is done\n",
      "ヤマエ久野（株）.pdf is done\n"
     ]
    },
    {
     "name": "stderr",
     "output_type": "stream",
     "text": [
      "The PDF <_io.BufferedReader name='/Users/mac-user/Desktop/SMTB/業務関連/pdf_data/未来工業（株）.pdf'> contains a metadata field indicating that it should not allow text extraction. Ignoring this field and proceeding. Use the check_extractable if you want to raise an error in this case\n"
     ]
    },
    {
     "name": "stdout",
     "output_type": "stream",
     "text": [
      "ENECHANGE（株）.pdf is done\n"
     ]
    },
    {
     "name": "stderr",
     "output_type": "stream",
     "text": [
      "The PDF <_io.BufferedReader name='/Users/mac-user/Desktop/SMTB/業務関連/pdf_data/キュービーネットホールディングス（株）.pdf'> contains a metadata field indicating that it should not allow text extraction. Ignoring this field and proceeding. Use the check_extractable if you want to raise an error in this case\n"
     ]
    },
    {
     "name": "stdout",
     "output_type": "stream",
     "text": [
      "未来工業（株）.pdf is done\n",
      "キュービーネットホールディングス（株）.pdf is done\n"
     ]
    },
    {
     "name": "stderr",
     "output_type": "stream",
     "text": [
      "The PDF <_io.BufferedReader name='/Users/mac-user/Desktop/SMTB/業務関連/pdf_data/ＳＢＩインシュアランスグループ（株）.pdf'> contains a metadata field indicating that it should not allow text extraction. Ignoring this field and proceeding. Use the check_extractable if you want to raise an error in this case\n"
     ]
    },
    {
     "name": "stdout",
     "output_type": "stream",
     "text": [
      "（株）ｐｌｕｓｚｅｒｏ.pdf is done\n"
     ]
    },
    {
     "name": "stderr",
     "output_type": "stream",
     "text": [
      "The PDF <_io.BufferedReader name='/Users/mac-user/Desktop/SMTB/業務関連/pdf_data/（株）パワーソリューションズ.pdf'> contains a metadata field indicating that it should not allow text extraction. Ignoring this field and proceeding. Use the check_extractable if you want to raise an error in this case\n"
     ]
    },
    {
     "name": "stdout",
     "output_type": "stream",
     "text": [
      "ＳＢＩインシュアランスグループ（株）.pdf is done\n",
      "（株）パワーソリューションズ.pdf is done\n",
      "（株）KidsSmileHoldings.pdf is done\n",
      "（株）ビザスク.pdf is done\n",
      "（株）ジィ・シィ企画.pdf is done\n",
      "ＳＢＩリーシングサービス（株）.pdf is done\n",
      "（株）ハイブリッドテクノロジーズ.pdf is done\n"
     ]
    },
    {
     "name": "stderr",
     "output_type": "stream",
     "text": [
      "The PDF <_io.BufferedReader name='/Users/mac-user/Desktop/SMTB/業務関連/pdf_data/プリントネット（株）.pdf'> contains a metadata field indicating that it should not allow text extraction. Ignoring this field and proceeding. Use the check_extractable if you want to raise an error in this case\n"
     ]
    },
    {
     "name": "stdout",
     "output_type": "stream",
     "text": [
      "クリングルファーマ（株）.pdf is done\n"
     ]
    },
    {
     "name": "stderr",
     "output_type": "stream",
     "text": [
      "The PDF <_io.BufferedReader name='/Users/mac-user/Desktop/SMTB/業務関連/pdf_data/日本国土開発（株）.pdf'> contains a metadata field indicating that it should not allow text extraction. Ignoring this field and proceeding. Use the check_extractable if you want to raise an error in this case\n"
     ]
    },
    {
     "name": "stdout",
     "output_type": "stream",
     "text": [
      "プリントネット（株）.pdf is done\n",
      "日本国土開発（株）.pdf is done\n",
      "（株）あいちフィナンシャルグループ.pdf is done\n"
     ]
    },
    {
     "name": "stderr",
     "output_type": "stream",
     "text": [
      "The PDF <_io.BufferedReader name='/Users/mac-user/Desktop/SMTB/業務関連/pdf_data/（株）ジェイック.pdf'> contains a metadata field indicating that it should not allow text extraction. Ignoring this field and proceeding. Use the check_extractable if you want to raise an error in this case\n"
     ]
    },
    {
     "name": "stdout",
     "output_type": "stream",
     "text": [
      "（株）アシロ.pdf is done\n",
      "（株）ジェイック.pdf is done\n"
     ]
    },
    {
     "name": "stderr",
     "output_type": "stream",
     "text": [
      "The PDF <_io.BufferedReader name='/Users/mac-user/Desktop/SMTB/業務関連/pdf_data/（株）サン・ライフホールディング.pdf'> contains a metadata field indicating that it should not allow text extraction. Ignoring this field and proceeding. Use the check_extractable if you want to raise an error in this case\n"
     ]
    },
    {
     "name": "stdout",
     "output_type": "stream",
     "text": [
      "（株）eWeLL.pdf is done\n",
      "（株）サン・ライフホールディング.pdf is done\n"
     ]
    },
    {
     "name": "stderr",
     "output_type": "stream",
     "text": [
      "The PDF <_io.BufferedReader name='/Users/mac-user/Desktop/SMTB/業務関連/pdf_data/INCLUSIVE（株）.pdf'> contains a metadata field indicating that it should not allow text extraction. Ignoring this field and proceeding. Use the check_extractable if you want to raise an error in this case\n"
     ]
    },
    {
     "name": "stdout",
     "output_type": "stream",
     "text": [
      "アララ（株）.pdf is done\n",
      "INCLUSIVE（株）.pdf is done\n"
     ]
    },
    {
     "name": "stderr",
     "output_type": "stream",
     "text": [
      "The PDF <_io.BufferedReader name='/Users/mac-user/Desktop/SMTB/業務関連/pdf_data/（株）フロンティアインターナショナル.pdf'> contains a metadata field indicating that it should not allow text extraction. Ignoring this field and proceeding. Use the check_extractable if you want to raise an error in this case\n"
     ]
    },
    {
     "name": "stdout",
     "output_type": "stream",
     "text": [
      "（株）いよぎんホールディングス.pdf is done\n",
      "（株）フロンティアインターナショナル.pdf is done\n",
      "（株）JDSC.pdf is done\n"
     ]
    },
    {
     "name": "stderr",
     "output_type": "stream",
     "text": [
      "The PDF <_io.BufferedReader name='/Users/mac-user/Desktop/SMTB/業務関連/pdf_data/（株）イボキン.pdf'> contains a metadata field indicating that it should not allow text extraction. Ignoring this field and proceeding. Use the check_extractable if you want to raise an error in this case\n"
     ]
    },
    {
     "name": "stdout",
     "output_type": "stream",
     "text": [
      "（株）サイバーセキュリティクラウド.pdf is done\n"
     ]
    },
    {
     "name": "stderr",
     "output_type": "stream",
     "text": [
      "The PDF <_io.BufferedReader name='/Users/mac-user/Desktop/SMTB/業務関連/pdf_data/（株）グッドライフカンパニー.pdf'> contains a metadata field indicating that it should not allow text extraction. Ignoring this field and proceeding. Use the check_extractable if you want to raise an error in this case\n"
     ]
    },
    {
     "name": "stdout",
     "output_type": "stream",
     "text": [
      "（株）イボキン.pdf is done\n",
      "（株）グッドライフカンパニー.pdf is done\n"
     ]
    },
    {
     "name": "stderr",
     "output_type": "stream",
     "text": [
      "The PDF <_io.BufferedReader name='/Users/mac-user/Desktop/SMTB/業務関連/pdf_data/（株）アイリックコーポレーション.pdf'> contains a metadata field indicating that it should not allow text extraction. Ignoring this field and proceeding. Use the check_extractable if you want to raise an error in this case\n"
     ]
    },
    {
     "name": "stdout",
     "output_type": "stream",
     "text": [
      "（株）マイクロアド.pdf is done\n"
     ]
    },
    {
     "name": "stderr",
     "output_type": "stream",
     "text": [
      "The PDF <_io.BufferedReader name='/Users/mac-user/Desktop/SMTB/業務関連/pdf_data/（株）プロレド・パートナーズ.pdf'> contains a metadata field indicating that it should not allow text extraction. Ignoring this field and proceeding. Use the check_extractable if you want to raise an error in this case\n"
     ]
    },
    {
     "name": "stdout",
     "output_type": "stream",
     "text": [
      "（株）アイリックコーポレーション.pdf is done\n"
     ]
    },
    {
     "name": "stderr",
     "output_type": "stream",
     "text": [
      "The PDF <_io.BufferedReader name='/Users/mac-user/Desktop/SMTB/業務関連/pdf_data/国際紙パルプ商事（株）.pdf'> contains a metadata field indicating that it should not allow text extraction. Ignoring this field and proceeding. Use the check_extractable if you want to raise an error in this case\n"
     ]
    },
    {
     "name": "stdout",
     "output_type": "stream",
     "text": [
      "（株）プロレド・パートナーズ.pdf is done\n",
      "国際紙パルプ商事（株）.pdf is done\n"
     ]
    },
    {
     "name": "stderr",
     "output_type": "stream",
     "text": [
      "The PDF <_io.BufferedReader name='/Users/mac-user/Desktop/SMTB/業務関連/pdf_data/ブティックス（株）.pdf'> contains a metadata field indicating that it should not allow text extraction. Ignoring this field and proceeding. Use the check_extractable if you want to raise an error in this case\n"
     ]
    },
    {
     "name": "stdout",
     "output_type": "stream",
     "text": [
      "（株）フューチャーリンクネットワーク.pdf is done\n",
      "ブティックス（株）.pdf is done\n"
     ]
    },
    {
     "name": "stderr",
     "output_type": "stream",
     "text": [
      "The PDF <_io.BufferedReader name='/Users/mac-user/Desktop/SMTB/業務関連/pdf_data/ダイコー通産（株）.pdf'> contains a metadata field indicating that it should not allow text extraction. Ignoring this field and proceeding. Use the check_extractable if you want to raise an error in this case\n"
     ]
    },
    {
     "name": "stdout",
     "output_type": "stream",
     "text": [
      "日本ビジネスシステムズ（株）.pdf is done\n",
      "ダイコー通産（株）.pdf is done\n"
     ]
    },
    {
     "name": "stderr",
     "output_type": "stream",
     "text": [
      "The PDF <_io.BufferedReader name='/Users/mac-user/Desktop/SMTB/業務関連/pdf_data/（株）Ｌｉｂ\\u3000Ｗｏｒｋ.pdf'> contains a metadata field indicating that it should not allow text extraction. Ignoring this field and proceeding. Use the check_extractable if you want to raise an error in this case\n"
     ]
    },
    {
     "name": "stdout",
     "output_type": "stream",
     "text": [
      "アイペットホールディングス（株）.pdf is done\n",
      "（株）Ｌｉｂ　Ｗｏｒｋ.pdf is done\n",
      "rakumo（株）.pdf is done\n",
      "（株）ネオマーケティング.pdf is done\n"
     ]
    },
    {
     "name": "stderr",
     "output_type": "stream",
     "text": [
      "The PDF <_io.BufferedReader name='/Users/mac-user/Desktop/SMTB/業務関連/pdf_data/ベルトラ（株）.pdf'> contains a metadata field indicating that it should not allow text extraction. Ignoring this field and proceeding. Use the check_extractable if you want to raise an error in this case\n"
     ]
    },
    {
     "name": "stdout",
     "output_type": "stream",
     "text": [
      "（株）ファインズ.pdf is done\n"
     ]
    },
    {
     "name": "stderr",
     "output_type": "stream",
     "text": [
      "The PDF <_io.BufferedReader name='/Users/mac-user/Desktop/SMTB/業務関連/pdf_data/（株）フレアス.pdf'> contains a metadata field indicating that it should not allow text extraction. Ignoring this field and proceeding. Use the check_extractable if you want to raise an error in this case\n"
     ]
    },
    {
     "name": "stdout",
     "output_type": "stream",
     "text": [
      "ベルトラ（株）.pdf is done\n"
     ]
    },
    {
     "name": "stderr",
     "output_type": "stream",
     "text": [
      "The PDF <_io.BufferedReader name='/Users/mac-user/Desktop/SMTB/業務関連/pdf_data/（株）エードット.pdf'> contains a metadata field indicating that it should not allow text extraction. Ignoring this field and proceeding. Use the check_extractable if you want to raise an error in this case\n"
     ]
    },
    {
     "name": "stdout",
     "output_type": "stream",
     "text": [
      "（株）フレアス.pdf is done\n",
      "（株）エードット.pdf is done\n",
      "プレミアアンチエイジング（株）.pdf is done\n",
      "REXT（株）.pdf is done\n",
      "（株）ヴィス.pdf is done\n"
     ]
    },
    {
     "name": "stderr",
     "output_type": "stream",
     "text": [
      "The PDF <_io.BufferedReader name='/Users/mac-user/Desktop/SMTB/業務関連/pdf_data/AIinside（株）.pdf'> contains a metadata field indicating that it should not allow text extraction. Ignoring this field and proceeding. Use the check_extractable if you want to raise an error in this case\n"
     ]
    },
    {
     "name": "stdout",
     "output_type": "stream",
     "text": [
      "（株）プロジェクトカンパニー.pdf is done\n"
     ]
    },
    {
     "name": "stderr",
     "output_type": "stream",
     "text": [
      "The PDF <_io.BufferedReader name='/Users/mac-user/Desktop/SMTB/業務関連/pdf_data/（株）globalbridgeHOLDINGS.pdf'> contains a metadata field indicating that it should not allow text extraction. Ignoring this field and proceeding. Use the check_extractable if you want to raise an error in this case\n"
     ]
    },
    {
     "name": "stdout",
     "output_type": "stream",
     "text": [
      "AIinside（株）.pdf is done\n"
     ]
    },
    {
     "name": "stderr",
     "output_type": "stream",
     "text": [
      "The PDF <_io.BufferedReader name='/Users/mac-user/Desktop/SMTB/業務関連/pdf_data/アジャイルメディア・ネットワーク（株）.pdf'> contains a metadata field indicating that it should not allow text extraction. Ignoring this field and proceeding. Use the check_extractable if you want to raise an error in this case\n"
     ]
    },
    {
     "name": "stdout",
     "output_type": "stream",
     "text": [
      "（株）globalbridgeHOLDINGS.pdf is done\n",
      "アジャイルメディア・ネットワーク（株）.pdf is done\n"
     ]
    },
    {
     "name": "stderr",
     "output_type": "stream",
     "text": [
      "The PDF <_io.BufferedReader name='/Users/mac-user/Desktop/SMTB/業務関連/pdf_data/（株）インフォネット.pdf'> contains a metadata field indicating that it should not allow text extraction. Ignoring this field and proceeding. Use the check_extractable if you want to raise an error in this case\n"
     ]
    },
    {
     "name": "stdout",
     "output_type": "stream",
     "text": [
      "（株）ギックス.pdf is done\n",
      "（株）インフォネット.pdf is done\n",
      "（株）リグア.pdf is done\n"
     ]
    },
    {
     "name": "stderr",
     "output_type": "stream",
     "text": [
      "The PDF <_io.BufferedReader name='/Users/mac-user/Desktop/SMTB/業務関連/pdf_data/オーウエル（株）.pdf'> contains a metadata field indicating that it should not allow text extraction. Ignoring this field and proceeding. Use the check_extractable if you want to raise an error in this case\n"
     ]
    },
    {
     "name": "stdout",
     "output_type": "stream",
     "text": [
      "人・夢・技術グループ（株）.pdf is done\n"
     ]
    },
    {
     "name": "stderr",
     "output_type": "stream",
     "text": [
      "The PDF <_io.BufferedReader name='/Users/mac-user/Desktop/SMTB/業務関連/pdf_data/（株）ツクイスタッフ.pdf'> contains a metadata field indicating that it should not allow text extraction. Ignoring this field and proceeding. Use the check_extractable if you want to raise an error in this case\n"
     ]
    },
    {
     "name": "stdout",
     "output_type": "stream",
     "text": [
      "オーウエル（株）.pdf is done\n",
      "（株）ツクイスタッフ.pdf is done\n",
      "シンプレクス・ホールディングス（株）.pdf is done\n",
      "RecoveryInternational（株）.pdf is done\n",
      "あすか製薬ホールディングス（株）.pdf is done\n"
     ]
    },
    {
     "name": "stderr",
     "output_type": "stream",
     "text": [
      "The PDF <_io.BufferedReader name='/Users/mac-user/Desktop/SMTB/業務関連/pdf_data/東海ソフト（株）.pdf'> contains a metadata field indicating that it should not allow text extraction. Ignoring this field and proceeding. Use the check_extractable if you want to raise an error in this case\n"
     ]
    },
    {
     "name": "stdout",
     "output_type": "stream",
     "text": [
      "（株）ジーネクスト.pdf is done\n"
     ]
    },
    {
     "name": "stderr",
     "output_type": "stream",
     "text": [
      "The PDF <_io.BufferedReader name='/Users/mac-user/Desktop/SMTB/業務関連/pdf_data/（株）アンビスホールディングス.pdf'> contains a metadata field indicating that it should not allow text extraction. Ignoring this field and proceeding. Use the check_extractable if you want to raise an error in this case\n"
     ]
    },
    {
     "name": "stdout",
     "output_type": "stream",
     "text": [
      "東海ソフト（株）.pdf is done\n"
     ]
    },
    {
     "name": "stderr",
     "output_type": "stream",
     "text": [
      "The PDF <_io.BufferedReader name='/Users/mac-user/Desktop/SMTB/業務関連/pdf_data/（株）ＳＩＧ.pdf'> contains a metadata field indicating that it should not allow text extraction. Ignoring this field and proceeding. Use the check_extractable if you want to raise an error in this case\n"
     ]
    },
    {
     "name": "stdout",
     "output_type": "stream",
     "text": [
      "（株）アンビスホールディングス.pdf is done\n"
     ]
    },
    {
     "name": "stderr",
     "output_type": "stream",
     "text": [
      "The PDF <_io.BufferedReader name='/Users/mac-user/Desktop/SMTB/業務関連/pdf_data/（株）浜木綿.pdf'> contains a metadata field indicating that it should not allow text extraction. Ignoring this field and proceeding. Use the check_extractable if you want to raise an error in this case\n"
     ]
    },
    {
     "name": "stdout",
     "output_type": "stream",
     "text": [
      "（株）ＳＩＧ.pdf is done\n",
      "（株）浜木綿.pdf is done\n",
      "ビジネスコーチ（株）.pdf is done\n",
      "ホームポジション（株）.pdf is done\n",
      "ＢＣＣ（株）.pdf is done\n"
     ]
    },
    {
     "name": "stderr",
     "output_type": "stream",
     "text": [
      "The PDF <_io.BufferedReader name='/Users/mac-user/Desktop/SMTB/業務関連/pdf_data/（株）キャンディル.pdf'> contains a metadata field indicating that it should not allow text extraction. Ignoring this field and proceeding. Use the check_extractable if you want to raise an error in this case\n"
     ]
    },
    {
     "name": "stdout",
     "output_type": "stream",
     "text": [
      "（株）アイドマ・ホールディングス.pdf is done\n"
     ]
    },
    {
     "name": "stderr",
     "output_type": "stream",
     "text": [
      "The PDF <_io.BufferedReader name='/Users/mac-user/Desktop/SMTB/業務関連/pdf_data/（株）ＪＴＯＷＥＲ.pdf'> contains a metadata field indicating that it should not allow text extraction. Ignoring this field and proceeding. Use the check_extractable if you want to raise an error in this case\n"
     ]
    },
    {
     "name": "stdout",
     "output_type": "stream",
     "text": [
      "（株）キャンディル.pdf is done\n"
     ]
    },
    {
     "name": "stderr",
     "output_type": "stream",
     "text": [
      "The PDF <_io.BufferedReader name='/Users/mac-user/Desktop/SMTB/業務関連/pdf_data/（株）ギフト.pdf'> contains a metadata field indicating that it should not allow text extraction. Ignoring this field and proceeding. Use the check_extractable if you want to raise an error in this case\n"
     ]
    },
    {
     "name": "stdout",
     "output_type": "stream",
     "text": [
      "（株）ＪＴＯＷＥＲ.pdf is done\n"
     ]
    },
    {
     "name": "stderr",
     "output_type": "stream",
     "text": [
      "The PDF <_io.BufferedReader name='/Users/mac-user/Desktop/SMTB/業務関連/pdf_data/（株）リーガル不動産.pdf'> contains a metadata field indicating that it should not allow text extraction. Ignoring this field and proceeding. Use the check_extractable if you want to raise an error in this case\n"
     ]
    },
    {
     "name": "stdout",
     "output_type": "stream",
     "text": [
      "（株）ギフト.pdf is done\n"
     ]
    },
    {
     "name": "stderr",
     "output_type": "stream",
     "text": [
      "The PDF <_io.BufferedReader name='/Users/mac-user/Desktop/SMTB/業務関連/pdf_data/（株）あさくま.pdf'> contains a metadata field indicating that it should not allow text extraction. Ignoring this field and proceeding. Use the check_extractable if you want to raise an error in this case\n"
     ]
    },
    {
     "name": "stdout",
     "output_type": "stream",
     "text": [
      "（株）リーガル不動産.pdf is done\n",
      "（株）あさくま.pdf is done\n",
      "（株）ピックルスホールディングス.pdf is done\n",
      "木村工機（株）.pdf is done\n",
      "（株）ピー・ビーシステムズ.pdf is done\n",
      "（株）ちゅうぎんフィナンシャルグループ.pdf is done\n",
      "（株）ラバブルマーケティンググループ.pdf is done\n",
      "（株）デリバリーコンサルティング.pdf is done\n",
      "（株）ニッソウ.pdf is done\n"
     ]
    },
    {
     "name": "stderr",
     "output_type": "stream",
     "text": [
      "The PDF <_io.BufferedReader name='/Users/mac-user/Desktop/SMTB/業務関連/pdf_data/（株）マクアケ.pdf'> contains a metadata field indicating that it should not allow text extraction. Ignoring this field and proceeding. Use the check_extractable if you want to raise an error in this case\n"
     ]
    },
    {
     "name": "stdout",
     "output_type": "stream",
     "text": [
      "（株）ビーイングホールディングス.pdf is done\n",
      "（株）マクアケ.pdf is done\n"
     ]
    },
    {
     "name": "stderr",
     "output_type": "stream",
     "text": [
      "The PDF <_io.BufferedReader name='/Users/mac-user/Desktop/SMTB/業務関連/pdf_data/（株）ジェイテックコーポレーション.pdf'> contains a metadata field indicating that it should not allow text extraction. Ignoring this field and proceeding. Use the check_extractable if you want to raise an error in this case\n"
     ]
    },
    {
     "name": "stdout",
     "output_type": "stream",
     "text": [
      "（株）CaSy.pdf is done\n",
      "（株）ジェイテックコーポレーション.pdf is done\n"
     ]
    },
    {
     "name": "stderr",
     "output_type": "stream",
     "text": [
      "The PDF <_io.BufferedReader name='/Users/mac-user/Desktop/SMTB/業務関連/pdf_data/竹田印刷（株）.pdf'> contains a metadata field indicating that it should not allow text extraction. Ignoring this field and proceeding. Use the check_extractable if you want to raise an error in this case\n"
     ]
    },
    {
     "name": "stdout",
     "output_type": "stream",
     "text": [
      "ビーウィズ（株）.pdf is done\n",
      "竹田印刷（株）.pdf is done\n",
      "モイ（株）.pdf is done\n",
      "Retty（株）.pdf is done\n",
      "（株）ラストワンマイル.pdf is done\n"
     ]
    },
    {
     "name": "stderr",
     "output_type": "stream",
     "text": [
      "The PDF <_io.BufferedReader name='/Users/mac-user/Desktop/SMTB/業務関連/pdf_data/ランサーズ（株）.pdf'> contains a metadata field indicating that it should not allow text extraction. Ignoring this field and proceeding. Use the check_extractable if you want to raise an error in this case\n"
     ]
    },
    {
     "name": "stdout",
     "output_type": "stream",
     "text": [
      "（株）ヤプリ.pdf is done\n",
      "ランサーズ（株）.pdf is done\n"
     ]
    },
    {
     "name": "stderr",
     "output_type": "stream",
     "text": [
      "The PDF <_io.BufferedReader name='/Users/mac-user/Desktop/SMTB/業務関連/pdf_data/（株）ステムリム.pdf'> contains a metadata field indicating that it should not allow text extraction. Ignoring this field and proceeding. Use the check_extractable if you want to raise an error in this case\n"
     ]
    },
    {
     "name": "stdout",
     "output_type": "stream",
     "text": [
      "（株）ペイロール.pdf is done\n"
     ]
    },
    {
     "name": "stderr",
     "output_type": "stream",
     "text": [
      "The PDF <_io.BufferedReader name='/Users/mac-user/Desktop/SMTB/業務関連/pdf_data/（株）EduLab.pdf'> contains a metadata field indicating that it should not allow text extraction. Ignoring this field and proceeding. Use the check_extractable if you want to raise an error in this case\n"
     ]
    },
    {
     "name": "stdout",
     "output_type": "stream",
     "text": [
      "（株）ステムリム.pdf is done\n",
      "（株）EduLab.pdf is done\n",
      "（株）ファンペップ.pdf is done\n",
      "（株）モダリス.pdf is done\n"
     ]
    },
    {
     "name": "stderr",
     "output_type": "stream",
     "text": [
      "The PDF <_io.BufferedReader name='/Users/mac-user/Desktop/SMTB/業務関連/pdf_data/（株）スマレジ.pdf'> contains a metadata field indicating that it should not allow text extraction. Ignoring this field and proceeding. Use the check_extractable if you want to raise an error in this case\n"
     ]
    },
    {
     "name": "stdout",
     "output_type": "stream",
     "text": [
      "（株）トリプルアイズ.pdf is done\n",
      "（株）スマレジ.pdf is done\n"
     ]
    },
    {
     "name": "stderr",
     "output_type": "stream",
     "text": [
      "The PDF <_io.BufferedReader name='/Users/mac-user/Desktop/SMTB/業務関連/pdf_data/日創プロニティ（株）.pdf'> contains a metadata field indicating that it should not allow text extraction. Ignoring this field and proceeding. Use the check_extractable if you want to raise an error in this case\n"
     ]
    },
    {
     "name": "stdout",
     "output_type": "stream",
     "text": [
      "ＨＹＵＧＡＰＲＩＭＡＲＹＣＡＲＥ（株）.pdf is done\n"
     ]
    },
    {
     "name": "stderr",
     "output_type": "stream",
     "text": [
      "The PDF <_io.BufferedReader name='/Users/mac-user/Desktop/SMTB/業務関連/pdf_data/（株）ブロードバンドセキュリティ.pdf'> contains a metadata field indicating that it should not allow text extraction. Ignoring this field and proceeding. Use the check_extractable if you want to raise an error in this case\n"
     ]
    },
    {
     "name": "stdout",
     "output_type": "stream",
     "text": [
      "日創プロニティ（株）.pdf is done\n",
      "（株）ブロードバンドセキュリティ.pdf is done\n",
      "（株）BrandingEngineer.pdf is done\n",
      "フォースタートアップス（株）.pdf is done\n"
     ]
    },
    {
     "name": "stderr",
     "output_type": "stream",
     "text": [
      "The PDF <_io.BufferedReader name='/Users/mac-user/Desktop/SMTB/業務関連/pdf_data/（株）ランディックス.pdf'> contains a metadata field indicating that it should not allow text extraction. Ignoring this field and proceeding. Use the check_extractable if you want to raise an error in this case\n"
     ]
    },
    {
     "name": "stdout",
     "output_type": "stream",
     "text": [
      "のむら産業（株）.pdf is done\n",
      "（株）ランディックス.pdf is done\n",
      "（株）ヌーラボ.pdf is done\n",
      "大石産業（株）.pdf is done\n"
     ]
    },
    {
     "name": "stderr",
     "output_type": "stream",
     "text": [
      "The PDF <_io.BufferedReader name='/Users/mac-user/Desktop/SMTB/業務関連/pdf_data/（株）Ｍマート.pdf'> contains a metadata field indicating that it should not allow text extraction. Ignoring this field and proceeding. Use the check_extractable if you want to raise an error in this case\n"
     ]
    },
    {
     "name": "stdout",
     "output_type": "stream",
     "text": [
      "（株）坪田ラボ.pdf is done\n",
      "（株）Ｍマート.pdf is done\n"
     ]
    },
    {
     "name": "stderr",
     "output_type": "stream",
     "text": [
      "The PDF <_io.BufferedReader name='/Users/mac-user/Desktop/SMTB/業務関連/pdf_data/（株）トゥエンティーフォーセブン.pdf'> contains a metadata field indicating that it should not allow text extraction. Ignoring this field and proceeding. Use the check_extractable if you want to raise an error in this case\n"
     ]
    },
    {
     "name": "stdout",
     "output_type": "stream",
     "text": [
      "（株）unerry.pdf is done\n"
     ]
    },
    {
     "name": "stderr",
     "output_type": "stream",
     "text": [
      "The PDF <_io.BufferedReader name='/Users/mac-user/Desktop/SMTB/業務関連/pdf_data/（株）カオナビ.pdf'> contains a metadata field indicating that it should not allow text extraction. Ignoring this field and proceeding. Use the check_extractable if you want to raise an error in this case\n"
     ]
    },
    {
     "name": "stdout",
     "output_type": "stream",
     "text": [
      "（株）トゥエンティーフォーセブン.pdf is done\n"
     ]
    },
    {
     "name": "stderr",
     "output_type": "stream",
     "text": [
      "The PDF <_io.BufferedReader name='/Users/mac-user/Desktop/SMTB/業務関連/pdf_data/Chatwork（株）.pdf'> contains a metadata field indicating that it should not allow text extraction. Ignoring this field and proceeding. Use the check_extractable if you want to raise an error in this case\n"
     ]
    },
    {
     "name": "stdout",
     "output_type": "stream",
     "text": [
      "（株）カオナビ.pdf is done\n",
      "Chatwork（株）.pdf is done\n",
      "（株）セイファート.pdf is done\n",
      "（株）電算システムホールディングス.pdf is done\n",
      "表示灯（株）.pdf is done\n"
     ]
    },
    {
     "name": "stderr",
     "output_type": "stream",
     "text": [
      "The PDF <_io.BufferedReader name='/Users/mac-user/Desktop/SMTB/業務関連/pdf_data/（株）スポーツフィールド.pdf'> contains a metadata field indicating that it should not allow text extraction. Ignoring this field and proceeding. Use the check_extractable if you want to raise an error in this case\n"
     ]
    },
    {
     "name": "stdout",
     "output_type": "stream",
     "text": [
      "（株）ファブリカコミュニケーションズ.pdf is done\n"
     ]
    },
    {
     "name": "stderr",
     "output_type": "stream",
     "text": [
      "The PDF <_io.BufferedReader name='/Users/mac-user/Desktop/SMTB/業務関連/pdf_data/（株）ブシロード.pdf'> contains a metadata field indicating that it should not allow text extraction. Ignoring this field and proceeding. Use the check_extractable if you want to raise an error in this case\n"
     ]
    },
    {
     "name": "stdout",
     "output_type": "stream",
     "text": [
      "（株）スポーツフィールド.pdf is done\n",
      "（株）ブシロード.pdf is done\n",
      "セカンドサイトアナリティカ（株）.pdf is done\n",
      "（株）ＨＣＳホールディングス.pdf is done\n",
      "ＳＡＮＥＩ（株）.pdf is done\n"
     ]
    },
    {
     "name": "stderr",
     "output_type": "stream",
     "text": [
      "The PDF <_io.BufferedReader name='/Users/mac-user/Desktop/SMTB/業務関連/pdf_data/（株）ピアラ.pdf'> contains a metadata field indicating that it should not allow text extraction. Ignoring this field and proceeding. Use the check_extractable if you want to raise an error in this case\n"
     ]
    },
    {
     "name": "stdout",
     "output_type": "stream",
     "text": [
      "（株）アピリッツ.pdf is done\n",
      "（株）ピアラ.pdf is done\n",
      "（株）ノバック.pdf is done\n"
     ]
    },
    {
     "name": "stderr",
     "output_type": "stream",
     "text": [
      "The PDF <_io.BufferedReader name='/Users/mac-user/Desktop/SMTB/業務関連/pdf_data/（株）ＺＵＵ.pdf'> contains a metadata field indicating that it should not allow text extraction. Ignoring this field and proceeding. Use the check_extractable if you want to raise an error in this case\n"
     ]
    },
    {
     "name": "stdout",
     "output_type": "stream",
     "text": [
      "エブレン（株）.pdf is done\n",
      "（株）ＺＵＵ.pdf is done\n"
     ]
    },
    {
     "name": "stderr",
     "output_type": "stream",
     "text": [
      "The PDF <_io.BufferedReader name='/Users/mac-user/Desktop/SMTB/業務関連/pdf_data/（株）バンク・オブ・イノベーション.pdf'> contains a metadata field indicating that it should not allow text extraction. Ignoring this field and proceeding. Use the check_extractable if you want to raise an error in this case\n"
     ]
    },
    {
     "name": "stdout",
     "output_type": "stream",
     "text": [
      "InstitutionforaGlobalSociety（株）.pdf is done\n",
      "（株）バンク・オブ・イノベーション.pdf is done\n"
     ]
    },
    {
     "name": "stderr",
     "output_type": "stream",
     "text": [
      "The PDF <_io.BufferedReader name='/Users/mac-user/Desktop/SMTB/業務関連/pdf_data/香陵住販（株）.pdf'> contains a metadata field indicating that it should not allow text extraction. Ignoring this field and proceeding. Use the check_extractable if you want to raise an error in this case\n"
     ]
    },
    {
     "name": "stdout",
     "output_type": "stream",
     "text": [
      "（株）リファインバースグループ.pdf is done\n",
      "香陵住販（株）.pdf is done\n",
      "ヤマエグループホールディングス（株）.pdf is done\n",
      "（株）アイスコ.pdf is done\n",
      "アディッシュ（株）.pdf is done\n"
     ]
    },
    {
     "name": "stderr",
     "output_type": "stream",
     "text": [
      "The PDF <_io.BufferedReader name='/Users/mac-user/Desktop/SMTB/業務関連/pdf_data/ユナイトアンドグロウ（株）.pdf'> contains a metadata field indicating that it should not allow text extraction. Ignoring this field and proceeding. Use the check_extractable if you want to raise an error in this case\n"
     ]
    },
    {
     "name": "stdout",
     "output_type": "stream",
     "text": [
      "（株）シキノハイテック.pdf is done\n"
     ]
    },
    {
     "name": "stderr",
     "output_type": "stream",
     "text": [
      "The PDF <_io.BufferedReader name='/Users/mac-user/Desktop/SMTB/業務関連/pdf_data/（株）フェイスネットワーク.pdf'> contains a metadata field indicating that it should not allow text extraction. Ignoring this field and proceeding. Use the check_extractable if you want to raise an error in this case\n"
     ]
    },
    {
     "name": "stdout",
     "output_type": "stream",
     "text": [
      "ユナイトアンドグロウ（株）.pdf is done\n"
     ]
    },
    {
     "name": "stderr",
     "output_type": "stream",
     "text": [
      "The PDF <_io.BufferedReader name='/Users/mac-user/Desktop/SMTB/業務関連/pdf_data/新日本製薬（株）.pdf'> contains a metadata field indicating that it should not allow text extraction. Ignoring this field and proceeding. Use the check_extractable if you want to raise an error in this case\n"
     ]
    },
    {
     "name": "stdout",
     "output_type": "stream",
     "text": [
      "（株）フェイスネットワーク.pdf is done\n",
      "新日本製薬（株）.pdf is done\n",
      "トヨクモ（株）.pdf is done\n"
     ]
    },
    {
     "name": "stderr",
     "output_type": "stream",
     "text": [
      "The PDF <_io.BufferedReader name='/Users/mac-user/Desktop/SMTB/業務関連/pdf_data/（株）ファイバーゲート.pdf'> contains a metadata field indicating that it should not allow text extraction. Ignoring this field and proceeding. Use the check_extractable if you want to raise an error in this case\n"
     ]
    },
    {
     "name": "stdout",
     "output_type": "stream",
     "text": [
      "ＫＩＹＯラーニング（株）.pdf is done\n"
     ]
    },
    {
     "name": "stderr",
     "output_type": "stream",
     "text": [
      "The PDF <_io.BufferedReader name='/Users/mac-user/Desktop/SMTB/業務関連/pdf_data/（株）テノ．ホールディングス.pdf'> contains a metadata field indicating that it should not allow text extraction. Ignoring this field and proceeding. Use the check_extractable if you want to raise an error in this case\n"
     ]
    },
    {
     "name": "stdout",
     "output_type": "stream",
     "text": [
      "（株）ファイバーゲート.pdf is done\n",
      "（株）テノ．ホールディングス.pdf is done\n",
      "（株）ＷＡＣＵＬ.pdf is done\n",
      "（株）グッドパッチ.pdf is done\n",
      "（株）北國フィナンシャルホールディングス.pdf is done\n",
      "ビートレンド（株）.pdf is done\n",
      "（株）Ｅｎｊｉｎ.pdf is done\n",
      "（株）アルマード.pdf is done\n"
     ]
    },
    {
     "name": "stderr",
     "output_type": "stream",
     "text": [
      "The PDF <_io.BufferedReader name='/Users/mac-user/Desktop/SMTB/業務関連/pdf_data/ＷＤＢココ（株）.pdf'> contains a metadata field indicating that it should not allow text extraction. Ignoring this field and proceeding. Use the check_extractable if you want to raise an error in this case\n"
     ]
    },
    {
     "name": "stdout",
     "output_type": "stream",
     "text": [
      "（株）ひろぎんホールディングス.pdf is done\n"
     ]
    },
    {
     "name": "stderr",
     "output_type": "stream",
     "text": [
      "The PDF <_io.BufferedReader name='/Users/mac-user/Desktop/SMTB/業務関連/pdf_data/共栄セキュリティーサービス（株）.pdf'> contains a metadata field indicating that it should not allow text extraction. Ignoring this field and proceeding. Use the check_extractable if you want to raise an error in this case\n"
     ]
    },
    {
     "name": "stdout",
     "output_type": "stream",
     "text": [
      "ＷＤＢココ（株）.pdf is done\n",
      "共栄セキュリティーサービス（株）.pdf is done\n"
     ]
    },
    {
     "name": "stderr",
     "output_type": "stream",
     "text": [
      "The PDF <_io.BufferedReader name='/Users/mac-user/Desktop/SMTB/業務関連/pdf_data/（株）ベルテクスコーポレーション.pdf'> contains a metadata field indicating that it should not allow text extraction. Ignoring this field and proceeding. Use the check_extractable if you want to raise an error in this case\n"
     ]
    },
    {
     "name": "stdout",
     "output_type": "stream",
     "text": [
      "ブレインズテクノロジー（株）.pdf is done\n"
     ]
    },
    {
     "name": "stderr",
     "output_type": "stream",
     "text": [
      "The PDF <_io.BufferedReader name='/Users/mac-user/Desktop/SMTB/業務関連/pdf_data/技研ホールディングス（株）.pdf'> contains a metadata field indicating that it should not allow text extraction. Ignoring this field and proceeding. Use the check_extractable if you want to raise an error in this case\n"
     ]
    },
    {
     "name": "stdout",
     "output_type": "stream",
     "text": [
      "（株）ベルテクスコーポレーション.pdf is done\n"
     ]
    },
    {
     "name": "stderr",
     "output_type": "stream",
     "text": [
      "The PDF <_io.BufferedReader name='/Users/mac-user/Desktop/SMTB/業務関連/pdf_data/（株）アミファ.pdf'> contains a metadata field indicating that it should not allow text extraction. Ignoring this field and proceeding. Use the check_extractable if you want to raise an error in this case\n"
     ]
    },
    {
     "name": "stdout",
     "output_type": "stream",
     "text": [
      "技研ホールディングス（株）.pdf is done\n"
     ]
    },
    {
     "name": "stderr",
     "output_type": "stream",
     "text": [
      "The PDF <_io.BufferedReader name='/Users/mac-user/Desktop/SMTB/業務関連/pdf_data/（株）薬王堂ホールディングス.pdf'> contains a metadata field indicating that it should not allow text extraction. Ignoring this field and proceeding. Use the check_extractable if you want to raise an error in this case\n"
     ]
    },
    {
     "name": "stdout",
     "output_type": "stream",
     "text": [
      "（株）アミファ.pdf is done\n",
      "（株）薬王堂ホールディングス.pdf is done\n",
      "ＡＨＣグループ（株）.pdf is done\n",
      "（株）コアコンセプト・テクノロジー.pdf is done\n",
      "オムニ・プラス・システム・リミテッド.pdf is done\n",
      "（株）フレクト.pdf is done\n"
     ]
    },
    {
     "name": "stderr",
     "output_type": "stream",
     "text": [
      "The PDF <_io.BufferedReader name='/Users/mac-user/Desktop/SMTB/業務関連/pdf_data/（株）タカヨシ.pdf'> contains a metadata field indicating that it should not allow text extraction. Ignoring this field and proceeding. Use the check_extractable if you want to raise an error in this case\n"
     ]
    },
    {
     "name": "stdout",
     "output_type": "stream",
     "text": [
      "（株）Ｔ．Ｓ．Ｉ.pdf is done\n",
      "（株）タカヨシ.pdf is done\n"
     ]
    },
    {
     "name": "stderr",
     "output_type": "stream",
     "text": [
      "The PDF <_io.BufferedReader name='/Users/mac-user/Desktop/SMTB/業務関連/pdf_data/ヒューマン・アソシエイツ・ホールディングス（株）.pdf'> contains a metadata field indicating that it should not allow text extraction. Ignoring this field and proceeding. Use the check_extractable if you want to raise an error in this case\n"
     ]
    },
    {
     "name": "stdout",
     "output_type": "stream",
     "text": [
      "DNホールディングス（株）.pdf is done\n",
      "ヒューマン・アソシエイツ・ホールディングス（株）.pdf is done\n",
      "（株）ソシオネクスト.pdf is done\n",
      "（株）ＦＣＥＨｏｌｄｉｎｇｓ.pdf is done\n",
      "（株）オンデック.pdf is done\n"
     ]
    },
    {
     "name": "stderr",
     "output_type": "stream",
     "text": [
      "The PDF <_io.BufferedReader name='/Users/mac-user/Desktop/SMTB/業務関連/pdf_data/ＣＲＧホールディングス（株）.pdf'> contains a metadata field indicating that it should not allow text extraction. Ignoring this field and proceeding. Use the check_extractable if you want to raise an error in this case\n"
     ]
    },
    {
     "name": "stdout",
     "output_type": "stream",
     "text": [
      "（株）ウイルテック.pdf is done\n"
     ]
    },
    {
     "name": "stderr",
     "output_type": "stream",
     "text": [
      "The PDF <_io.BufferedReader name='/Users/mac-user/Desktop/SMTB/業務関連/pdf_data/フロンティア・マネジメント（株）.pdf'> contains a metadata field indicating that it should not allow text extraction. Ignoring this field and proceeding. Use the check_extractable if you want to raise an error in this case\n"
     ]
    },
    {
     "name": "stdout",
     "output_type": "stream",
     "text": [
      "ＣＲＧホールディングス（株）.pdf is done\n",
      "フロンティア・マネジメント（株）.pdf is done\n"
     ]
    },
    {
     "name": "stderr",
     "output_type": "stream",
     "text": [
      "The PDF <_io.BufferedReader name='/Users/mac-user/Desktop/SMTB/業務関連/pdf_data/（株）ウィルズ.pdf'> contains a metadata field indicating that it should not allow text extraction. Ignoring this field and proceeding. Use the check_extractable if you want to raise an error in this case\n"
     ]
    },
    {
     "name": "stdout",
     "output_type": "stream",
     "text": [
      "（株）紀文食品.pdf is done\n",
      "（株）ウィルズ.pdf is done\n",
      "（株）まぐまぐ.pdf is done\n",
      "（株）メイホーホールディングス.pdf is done\n",
      "AppierGroup（株）.pdf is done\n",
      "（株）ポピンズホールディングス.pdf is done\n"
     ]
    },
    {
     "name": "stderr",
     "output_type": "stream",
     "text": [
      "The PDF <_io.BufferedReader name='/Users/mac-user/Desktop/SMTB/業務関連/pdf_data/（株）関西みらいフィナンシャルグループ.pdf'> contains a metadata field indicating that it should not allow text extraction. Ignoring this field and proceeding. Use the check_extractable if you want to raise an error in this case\n"
     ]
    },
    {
     "name": "stdout",
     "output_type": "stream",
     "text": [
      "（株）ボードルア.pdf is done\n"
     ]
    },
    {
     "name": "stderr",
     "output_type": "stream",
     "text": [
      "The PDF <_io.BufferedReader name='/Users/mac-user/Desktop/SMTB/業務関連/pdf_data/スター・マイカ・ホールディングス（株）.pdf'> contains a metadata field indicating that it should not allow text extraction. Ignoring this field and proceeding. Use the check_extractable if you want to raise an error in this case\n"
     ]
    },
    {
     "name": "stdout",
     "output_type": "stream",
     "text": [
      "（株）関西みらいフィナンシャルグループ.pdf is done\n"
     ]
    },
    {
     "name": "stderr",
     "output_type": "stream",
     "text": [
      "The PDF <_io.BufferedReader name='/Users/mac-user/Desktop/SMTB/業務関連/pdf_data/テクノスデータサイエンス・エンジニアリング（株）.pdf'> contains a metadata field indicating that it should not allow text extraction. Ignoring this field and proceeding. Use the check_extractable if you want to raise an error in this case\n"
     ]
    },
    {
     "name": "stdout",
     "output_type": "stream",
     "text": [
      "スター・マイカ・ホールディングス（株）.pdf is done\n",
      "テクノスデータサイエンス・エンジニアリング（株）.pdf is done\n"
     ]
    },
    {
     "name": "stderr",
     "output_type": "stream",
     "text": [
      "The PDF <_io.BufferedReader name='/Users/mac-user/Desktop/SMTB/業務関連/pdf_data/Sansan（株）.pdf'> contains a metadata field indicating that it should not allow text extraction. Ignoring this field and proceeding. Use the check_extractable if you want to raise an error in this case\n"
     ]
    },
    {
     "name": "stdout",
     "output_type": "stream",
     "text": [
      "日本調理機（株）.pdf is done\n",
      "Sansan（株）.pdf is done\n",
      "（株）デコルテ・ホールディングス.pdf is done\n",
      "（株）SharingInnovations.pdf is done\n",
      "（株）雪国まいたけ.pdf is done\n"
     ]
    },
    {
     "name": "stderr",
     "output_type": "stream",
     "text": [
      "The PDF <_io.BufferedReader name='/Users/mac-user/Desktop/SMTB/業務関連/pdf_data/リックソフト（株）.pdf'> contains a metadata field indicating that it should not allow text extraction. Ignoring this field and proceeding. Use the check_extractable if you want to raise an error in this case\n"
     ]
    },
    {
     "name": "stdout",
     "output_type": "stream",
     "text": [
      "（株）ｉ‐ｐｌｕｇ.pdf is done\n"
     ]
    },
    {
     "name": "stderr",
     "output_type": "stream",
     "text": [
      "The PDF <_io.BufferedReader name='/Users/mac-user/Desktop/SMTB/業務関連/pdf_data/SIホールディングス（株）.pdf'> contains a metadata field indicating that it should not allow text extraction. Ignoring this field and proceeding. Use the check_extractable if you want to raise an error in this case\n"
     ]
    },
    {
     "name": "stdout",
     "output_type": "stream",
     "text": [
      "リックソフト（株）.pdf is done\n"
     ]
    },
    {
     "name": "stderr",
     "output_type": "stream",
     "text": [
      "The PDF <_io.BufferedReader name='/Users/mac-user/Desktop/SMTB/業務関連/pdf_data/（株）ＮＡＴＴＹＳＷＡＮＫＹ.pdf'> contains a metadata field indicating that it should not allow text extraction. Ignoring this field and proceeding. Use the check_extractable if you want to raise an error in this case\n"
     ]
    },
    {
     "name": "stdout",
     "output_type": "stream",
     "text": [
      "SIホールディングス（株）.pdf is done\n",
      "（株）ＮＡＴＴＹＳＷＡＮＫＹ.pdf is done\n",
      "（株）東京通信.pdf is done\n",
      "（株）ＢｅｅＸ.pdf is done\n"
     ]
    }
   ],
   "source": [
    "pdf_to_txt()"
   ]
  },
  {
   "cell_type": "code",
   "execution_count": null,
   "id": "b76a9226",
   "metadata": {},
   "outputs": [],
   "source": []
  }
 ],
 "metadata": {
  "kernelspec": {
   "display_name": "Python 3 (ipykernel)",
   "language": "python",
   "name": "python3"
  },
  "language_info": {
   "codemirror_mode": {
    "name": "ipython",
    "version": 3
   },
   "file_extension": ".py",
   "mimetype": "text/x-python",
   "name": "python",
   "nbconvert_exporter": "python",
   "pygments_lexer": "ipython3",
   "version": "3.9.12"
  }
 },
 "nbformat": 4,
 "nbformat_minor": 5
}
